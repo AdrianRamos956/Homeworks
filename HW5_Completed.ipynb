{
  "cells": [
    {
      "cell_type": "markdown",
      "metadata": {
        "id": "view-in-github",
        "colab_type": "text"
      },
      "source": [
        "<a href=\"https://colab.research.google.com/github/AdrianRamos956/Homeworks/blob/main/HW5_Completed.ipynb\" target=\"_parent\"><img src=\"https://colab.research.google.com/assets/colab-badge.svg\" alt=\"Open In Colab\"/></a>"
      ]
    },
    {
      "cell_type": "code",
      "execution_count": null,
      "metadata": {
        "id": "rEbRgaxOr2gW",
        "colab": {
          "base_uri": "https://localhost:8080/",
          "height": 36
        },
        "outputId": "e70081b4-6244-48d7-deac-267f7f14a0c4"
      },
      "outputs": [
        {
          "output_type": "execute_result",
          "data": {
            "text/plain": [
              "'\\nHW5 \\n@author: Adrian Ramos\\n\\nPlease insert one code cell for each question\\n\\n'"
            ],
            "application/vnd.google.colaboratory.intrinsic+json": {
              "type": "string"
            }
          },
          "metadata": {},
          "execution_count": 142
        }
      ],
      "source": [
        "# -*- coding: utf-8 -*-\n",
        "\"\"\"\n",
        "HW5\n",
        "@author: Adrian Ramos\n",
        "\n",
        "Please insert one code cell for each question\n",
        "\n",
        "\"\"\""
      ]
    },
    {
      "cell_type": "markdown",
      "metadata": {
        "id": "Kos_sqq_r2gc"
      },
      "source": [
        "% import modules needed"
      ]
    },
    {
      "cell_type": "code",
      "source": [
        "import numpy as np\n",
        "import pandas as pd\n",
        "df = pd.read_excel(\"hw5q1.xlsx\")"
      ],
      "metadata": {
        "id": "PD-wSQxjWnis"
      },
      "execution_count": null,
      "outputs": []
    },
    {
      "cell_type": "markdown",
      "metadata": {
        "id": "DUPUTwpur2gf"
      },
      "source": [
        "% Q1a: (4pts) Show a boxplot of the data."
      ]
    },
    {
      "cell_type": "code",
      "source": [
        "df.boxplot(figsize=(12,10))"
      ],
      "metadata": {
        "colab": {
          "base_uri": "https://localhost:8080/",
          "height": 611
        },
        "id": "o3NPwYGIWmny",
        "outputId": "e06bf7d1-e618-44f6-85cc-a09cd647d71e"
      },
      "execution_count": null,
      "outputs": [
        {
          "output_type": "execute_result",
          "data": {
            "text/plain": [
              "<matplotlib.axes._subplots.AxesSubplot at 0x7f8c810d74d0>"
            ]
          },
          "metadata": {},
          "execution_count": 144
        },
        {
          "output_type": "display_data",
          "data": {
            "text/plain": [
              "<Figure size 864x720 with 1 Axes>"
            ],
            "image/png": "[encoded data removed]"
          },
          "metadata": {
            "needs_background": "light"
          }
        }
      ]
    },
    {
      "cell_type": "markdown",
      "metadata": {
        "id": "TF-xvykCr2gf"
      },
      "source": [
        "% Q1b:  (4pts) Use pandas function describe() to print out the summary statistics of the data  "
      ]
    },
    {
      "cell_type": "code",
      "source": [
        "df.describe()"
      ],
      "metadata": {
        "colab": {
          "base_uri": "https://localhost:8080/",
          "height": 300
        },
        "id": "6-Nm4IPTXGRS",
        "outputId": "50479f6f-f7bc-465b-e137-664f2b9c1aef"
      },
      "execution_count": null,
      "outputs": [
        {
          "output_type": "execute_result",
          "data": {
            "text/plain": [
              "                 a            b            c            d\n",
              "count  1000.000000  1000.000000  1000.000000  1000.000000\n",
              "mean      3.993356     2.960433     2.786134     4.158032\n",
              "std       1.009219     3.131134     0.711737     7.951631\n",
              "min       0.876039     0.000909     1.056609     2.000620\n",
              "25%       3.271742     0.763997     2.274519     2.321567\n",
              "50%       4.042064     1.983874     2.699545     2.919469\n",
              "75%       4.705365     4.042860     3.202333     4.013069\n",
              "max       6.870148    24.173974     6.032348   157.940206"
            ],
            "text/html": [
              "\n",
              "  <div id=\"df-e6ead874-089c-414e-86af-5955b3eb8603\">\n",
              "    <div class=\"colab-df-container\">\n",
              "      <div>\n",
              "<style scoped>\n",
              "    .dataframe tbody tr th:only-of-type {\n",
              "        vertical-align: middle;\n",
              "    }\n",
              "\n",
              "    .dataframe tbody tr th {\n",
              "        vertical-align: top;\n",
              "    }\n",
              "\n",
              "    .dataframe thead th {\n",
              "        text-align: right;\n",
              "    }\n",
              "</style>\n",
              "<table border=\"1\" class=\"dataframe\">\n",
              "  <thead>\n",
              "    <tr style=\"text-align: right;\">\n",
              "      <th></th>\n",
              "      <th>a</th>\n",
              "      <th>b</th>\n",
              "      <th>c</th>\n",
              "      <th>d</th>\n",
              "    </tr>\n",
              "  </thead>\n",
              "  <tbody>\n",
              "    <tr>\n",
              "      <th>count</th>\n",
              "      <td>1000.000000</td>\n",
              "      <td>1000.000000</td>\n",
              "      <td>1000.000000</td>\n",
              "      <td>1000.000000</td>\n",
              "    </tr>\n",
              "    <tr>\n",
              "      <th>mean</th>\n",
              "      <td>3.993356</td>\n",
              "      <td>2.960433</td>\n",
              "      <td>2.786134</td>\n",
              "      <td>4.158032</td>\n",
              "    </tr>\n",
              "    <tr>\n",
              "      <th>std</th>\n",
              "      <td>1.009219</td>\n",
              "      <td>3.131134</td>\n",
              "      <td>0.711737</td>\n",
              "      <td>7.951631</td>\n",
              "    </tr>\n",
              "    <tr>\n",
              "      <th>min</th>\n",
              "      <td>0.876039</td>\n",
              "      <td>0.000909</td>\n",
              "      <td>1.056609</td>\n",
              "      <td>2.000620</td>\n",
              "    </tr>\n",
              "    <tr>\n",
              "      <th>25%</th>\n",
              "      <td>3.271742</td>\n",
              "      <td>0.763997</td>\n",
              "      <td>2.274519</td>\n",
              "      <td>2.321567</td>\n",
              "    </tr>\n",
              "    <tr>\n",
              "      <th>50%</th>\n",
              "      <td>4.042064</td>\n",
              "      <td>1.983874</td>\n",
              "      <td>2.699545</td>\n",
              "      <td>2.919469</td>\n",
              "    </tr>\n",
              "    <tr>\n",
              "      <th>75%</th>\n",
              "      <td>4.705365</td>\n",
              "      <td>4.042860</td>\n",
              "      <td>3.202333</td>\n",
              "      <td>4.013069</td>\n",
              "    </tr>\n",
              "    <tr>\n",
              "      <th>max</th>\n",
              "      <td>6.870148</td>\n",
              "      <td>24.173974</td>\n",
              "      <td>6.032348</td>\n",
              "      <td>157.940206</td>\n",
              "    </tr>\n",
              "  </tbody>\n",
              "</table>\n",
              "</div>\n",
              "      <button class=\"colab-df-convert\" onclick=\"convertToInteractive('df-e6ead874-089c-414e-86af-5955b3eb8603')\"\n",
              "              title=\"Convert this dataframe to an interactive table.\"\n",
              "              style=\"display:none;\">\n",
              "        \n",
              "  <svg xmlns=\"http://www.w3.org/2000/svg\" height=\"24px\"viewBox=\"0 0 24 24\"\n",
              "       width=\"24px\">\n",
              "    <path d=\"M0 0h24v24H0V0z\" fill=\"none\"/>\n",
              "    <path d=\"M18.56 5.44l.94 2.06.94-2.06 2.06-.94-2.06-.94-.94-2.06-.94 2.06-2.06.94zm-11 1L8.5 8.5l.94-2.06 2.06-.94-2.06-.94L8.5 2.5l-.94 2.06-2.06.94zm10 10l.94 2.06.94-2.06 2.06-.94-2.06-.94-.94-2.06-.94 2.06-2.06.94z\"/><path d=\"M17.41 7.96l-1.37-1.37c-.4-.4-.92-.59-1.43-.59-.52 0-1.04.2-1.43.59L10.3 9.45l-7.72 7.72c-.78.78-.78 2.05 0 2.83L4 21.41c.39.39.9.59 1.41.59.51 0 1.02-.2 1.41-.59l7.78-7.78 2.81-2.81c.8-.78.8-2.07 0-2.86zM5.41 20L4 18.59l7.72-7.72 1.47 1.35L5.41 20z\"/>\n",
              "  </svg>\n",
              "      </button>\n",
              "      \n",
              "  <style>\n",
              "    .colab-df-container {\n",
              "      display:flex;\n",
              "      flex-wrap:wrap;\n",
              "      gap: 12px;\n",
              "    }\n",
              "\n",
              "    .colab-df-convert {\n",
              "      background-color: #E8F0FE;\n",
              "      border: none;\n",
              "      border-radius: 50%;\n",
              "      cursor: pointer;\n",
              "      display: none;\n",
              "      fill: #1967D2;\n",
              "      height: 32px;\n",
              "      padding: 0 0 0 0;\n",
              "      width: 32px;\n",
              "    }\n",
              "\n",
              "    .colab-df-convert:hover {\n",
              "      background-color: #E2EBFA;\n",
              "      box-shadow: 0px 1px 2px rgba(60, 64, 67, 0.3), 0px 1px 3px 1px rgba(60, 64, 67, 0.15);\n",
              "      fill: #174EA6;\n",
              "    }\n",
              "\n",
              "    [theme=dark] .colab-df-convert {\n",
              "      background-color: #3B4455;\n",
              "      fill: #D2E3FC;\n",
              "    }\n",
              "\n",
              "    [theme=dark] .colab-df-convert:hover {\n",
              "      background-color: #434B5C;\n",
              "      box-shadow: 0px 1px 3px 1px rgba(0, 0, 0, 0.15);\n",
              "      filter: drop-shadow(0px 1px 2px rgba(0, 0, 0, 0.3));\n",
              "      fill: #FFFFFF;\n",
              "    }\n",
              "  </style>\n",
              "\n",
              "      <script>\n",
              "        const buttonEl =\n",
              "          document.querySelector('#df-e6ead874-089c-414e-86af-5955b3eb8603 button.colab-df-convert');\n",
              "        buttonEl.style.display =\n",
              "          google.colab.kernel.accessAllowed ? 'block' : 'none';\n",
              "\n",
              "        async function convertToInteractive(key) {\n",
              "          const element = document.querySelector('#df-e6ead874-089c-414e-86af-5955b3eb8603');\n",
              "          const dataTable =\n",
              "            await google.colab.kernel.invokeFunction('convertToInteractive',\n",
              "                                                     [key], {});\n",
              "          if (!dataTable) return;\n",
              "\n",
              "          const docLinkHtml = 'Like what you see? Visit the ' +\n",
              "            '<a target=\"_blank\" href=https://colab.research.google.com/notebooks/data_table.ipynb>data table notebook</a>'\n",
              "            + ' to learn more about interactive tables.';\n",
              "          element.innerHTML = '';\n",
              "          dataTable['output_type'] = 'display_data';\n",
              "          await google.colab.output.renderOutput(dataTable, element);\n",
              "          const docLink = document.createElement('div');\n",
              "          docLink.innerHTML = docLinkHtml;\n",
              "          element.appendChild(docLink);\n",
              "        }\n",
              "      </script>\n",
              "    </div>\n",
              "  </div>\n",
              "  "
            ]
          },
          "metadata": {},
          "execution_count": 145
        }
      ]
    },
    {
      "cell_type": "markdown",
      "metadata": {
        "id": "mLwmDt_qr2gg"
      },
      "source": [
        "% Q1c: (4pts) Apply log2 transformation (with applymap and np.log2) to the data and show the boxplot.\n"
      ]
    },
    {
      "cell_type": "code",
      "source": [
        "log2_df = df.applymap(np.log2)\n",
        "log2_df.boxplot(figsize=(12,10))"
      ],
      "metadata": {
        "colab": {
          "base_uri": "https://localhost:8080/",
          "height": 611
        },
        "id": "G4PPeTLBXGuL",
        "outputId": "9286dd6c-84e7-42be-eda4-fa79142ff4a6"
      },
      "execution_count": null,
      "outputs": [
        {
          "output_type": "execute_result",
          "data": {
            "text/plain": [
              "<matplotlib.axes._subplots.AxesSubplot at 0x7f8c81022210>"
            ]
          },
          "metadata": {},
          "execution_count": 146
        },
        {
          "output_type": "display_data",
          "data": {
            "text/plain": [
              "<Figure size 864x720 with 1 Axes>"
            ],
            "image/png": "[encoded data removed]"
          },
          "metadata": {
            "needs_background": "light"
          }
        }
      ]
    },
    {
      "cell_type": "markdown",
      "source": [
        "% Q1d: (4pts) Use pandas function hist to show the histogram of each column of the data frame. (Use option\n",
        "density = True so it plots probability instead of counts.)"
      ],
      "metadata": {
        "id": "BYUvgwKosKgA"
      }
    },
    {
      "cell_type": "code",
      "source": [
        "df.hist(density=True,figsize=(10,10))"
      ],
      "metadata": {
        "colab": {
          "base_uri": "https://localhost:8080/",
          "height": 700
        },
        "id": "-QZ-XAvvXHI9",
        "outputId": "657fb6ec-d8ba-4742-ab49-5ebb51e1c9c2"
      },
      "execution_count": null,
      "outputs": [
        {
          "output_type": "execute_result",
          "data": {
            "text/plain": [
              "array([[<matplotlib.axes._subplots.AxesSubplot object at 0x7f8c813ab2d0>,\n",
              "        <matplotlib.axes._subplots.AxesSubplot object at 0x7f8c817b0290>],\n",
              "       [<matplotlib.axes._subplots.AxesSubplot object at 0x7f8c81815f90>,\n",
              "        <matplotlib.axes._subplots.AxesSubplot object at 0x7f8c81ba2650>]],\n",
              "      dtype=object)"
            ]
          },
          "metadata": {},
          "execution_count": 147
        },
        {
          "output_type": "display_data",
          "data": {
            "text/plain": [
              "<Figure size 720x720 with 4 Axes>"
            ],
            "image/png": "[encoded data removed]"
          },
          "metadata": {
            "needs_background": "light"
          }
        }
      ]
    },
    {
      "cell_type": "markdown",
      "metadata": {
        "id": "UhEqG94-r2gi"
      },
      "source": [
        "% Q1e: (4pts) Use pandas function hist to show the histogram of the log transformed data frame. (Use option\n",
        "density = True so it plots probability instead of counts.)"
      ]
    },
    {
      "cell_type": "code",
      "source": [
        "log2_df.hist(density=True,figsize=(10,10))"
      ],
      "metadata": {
        "colab": {
          "base_uri": "https://localhost:8080/",
          "height": 700
        },
        "id": "nYrfZS7hXHcg",
        "outputId": "bae1b634-579e-41fa-8b09-cf4f88453e55"
      },
      "execution_count": null,
      "outputs": [
        {
          "output_type": "execute_result",
          "data": {
            "text/plain": [
              "array([[<matplotlib.axes._subplots.AxesSubplot object at 0x7f8c80dcfd50>,\n",
              "        <matplotlib.axes._subplots.AxesSubplot object at 0x7f8c80db1b50>],\n",
              "       [<matplotlib.axes._subplots.AxesSubplot object at 0x7f8c80d6f190>,\n",
              "        <matplotlib.axes._subplots.AxesSubplot object at 0x7f8c80d26790>]],\n",
              "      dtype=object)"
            ]
          },
          "metadata": {},
          "execution_count": 148
        },
        {
          "output_type": "display_data",
          "data": {
            "text/plain": [
              "<Figure size 720x720 with 4 Axes>"
            ],
            "image/png": "[encoded data removed]"
          },
          "metadata": {
            "needs_background": "light"
          }
        }
      ]
    },
    {
      "cell_type": "markdown",
      "metadata": {
        "id": "TZslmJvzr2gj"
      },
      "source": [
        "% Q1f: (4 pts) Based on the information and plots you obtained above, which column do you think is from\n",
        "normal distribution and which column is from log normal distribution? (FYI: data in the four columns\n",
        "come from four different distributions we discussed in class: normal, lognormal, exponential, and\n",
        "pareto. See slides 4.1-stats.pptx page 27-49.). (If you are using .py, print out your answer and\n",
        "justification; if you are using notebook, either print out your answer in code, or type your answer in a\n",
        "separate cell as text.)"
      ]
    },
    {
      "cell_type": "code",
      "source": [
        "print(\"Column a and c belongs to a normal distribution as they are forming bell shape and column d and b are log normal distribution, as its slope is descending.\")"
      ],
      "metadata": {
        "colab": {
          "base_uri": "https://localhost:8080/"
        },
        "id": "-RTEhiM_XH0h",
        "outputId": "142269b1-af48-4c8a-f9ad-f33eb7e82457"
      },
      "execution_count": null,
      "outputs": [
        {
          "output_type": "stream",
          "name": "stdout",
          "text": [
            "Column a and c belongs to a normal distribution as they are forming bell shape and column d and b are log normal distribution, as its slope is descending.\n"
          ]
        }
      ]
    },
    {
      "cell_type": "markdown",
      "source": [
        "%Q2a (6 pts) Load data stored in brfss.csv format into a python DataFrame. The first line in the file is column\n",
        "header, and the first column in the file is row index. Drop the rows that have any NaN values, and drop\n",
        "the 'wtkg2' and ‘wtyrago’ column. Change the sex column so that 1 (True) means male and 0 (False)\n",
        "means female. (Originally, sex == 2 means female and sex == 1 means male.) Rename the columns to\n",
        "age, weight, height, and male. Name the new DataFrame as brfss. Print out the shape (number of rows\n",
        "and columns) of brfss."
      ],
      "metadata": {
        "id": "lVsvPQLJscjU"
      }
    },
    {
      "cell_type": "code",
      "source": [
        "df = pd.read_csv('brfss.csv').drop(columns='Unnamed: 0')\n",
        "df = df.dropna().drop(columns=['wtyrago','wtkg2'])\n",
        "df['sex'] = df['sex'].map({2:0, 1:1})\n",
        "brfss = df.rename(columns={'weight2':'weight', 'htm3':'height','sex':'male'})\n",
        "brfss.head()"
      ],
      "metadata": {
        "colab": {
          "base_uri": "https://localhost:8080/",
          "height": 206
        },
        "id": "jPV71DhNwKTs",
        "outputId": "310c2088-8ba7-4c6f-d483-2304a34b9f67"
      },
      "execution_count": null,
      "outputs": [
        {
          "output_type": "execute_result",
          "data": {
            "text/plain": [
              "    age      weight  height  male\n",
              "0  39.0   88.636364   180.0     1\n",
              "1  64.0   75.000000   155.0     0\n",
              "3  51.0  100.000000   183.0     1\n",
              "4  35.0   63.636364   170.0     0\n",
              "5  62.0   70.454545   173.0     0"
            ],
            "text/html": [
              "\n",
              "  <div id=\"df-0cbf65cf-ddcb-47f7-86c3-d3b9e2671518\">\n",
              "    <div class=\"colab-df-container\">\n",
              "      <div>\n",
              "<style scoped>\n",
              "    .dataframe tbody tr th:only-of-type {\n",
              "        vertical-align: middle;\n",
              "    }\n",
              "\n",
              "    .dataframe tbody tr th {\n",
              "        vertical-align: top;\n",
              "    }\n",
              "\n",
              "    .dataframe thead th {\n",
              "        text-align: right;\n",
              "    }\n",
              "</style>\n",
              "<table border=\"1\" class=\"dataframe\">\n",
              "  <thead>\n",
              "    <tr style=\"text-align: right;\">\n",
              "      <th></th>\n",
              "      <th>age</th>\n",
              "      <th>weight</th>\n",
              "      <th>height</th>\n",
              "      <th>male</th>\n",
              "    </tr>\n",
              "  </thead>\n",
              "  <tbody>\n",
              "    <tr>\n",
              "      <th>0</th>\n",
              "      <td>39.0</td>\n",
              "      <td>88.636364</td>\n",
              "      <td>180.0</td>\n",
              "      <td>1</td>\n",
              "    </tr>\n",
              "    <tr>\n",
              "      <th>1</th>\n",
              "      <td>64.0</td>\n",
              "      <td>75.000000</td>\n",
              "      <td>155.0</td>\n",
              "      <td>0</td>\n",
              "    </tr>\n",
              "    <tr>\n",
              "      <th>3</th>\n",
              "      <td>51.0</td>\n",
              "      <td>100.000000</td>\n",
              "      <td>183.0</td>\n",
              "      <td>1</td>\n",
              "    </tr>\n",
              "    <tr>\n",
              "      <th>4</th>\n",
              "      <td>35.0</td>\n",
              "      <td>63.636364</td>\n",
              "      <td>170.0</td>\n",
              "      <td>0</td>\n",
              "    </tr>\n",
              "    <tr>\n",
              "      <th>5</th>\n",
              "      <td>62.0</td>\n",
              "      <td>70.454545</td>\n",
              "      <td>173.0</td>\n",
              "      <td>0</td>\n",
              "    </tr>\n",
              "  </tbody>\n",
              "</table>\n",
              "</div>\n",
              "      <button class=\"colab-df-convert\" onclick=\"convertToInteractive('df-0cbf65cf-ddcb-47f7-86c3-d3b9e2671518')\"\n",
              "              title=\"Convert this dataframe to an interactive table.\"\n",
              "              style=\"display:none;\">\n",
              "        \n",
              "  <svg xmlns=\"http://www.w3.org/2000/svg\" height=\"24px\"viewBox=\"0 0 24 24\"\n",
              "       width=\"24px\">\n",
              "    <path d=\"M0 0h24v24H0V0z\" fill=\"none\"/>\n",
              "    <path d=\"M18.56 5.44l.94 2.06.94-2.06 2.06-.94-2.06-.94-.94-2.06-.94 2.06-2.06.94zm-11 1L8.5 8.5l.94-2.06 2.06-.94-2.06-.94L8.5 2.5l-.94 2.06-2.06.94zm10 10l.94 2.06.94-2.06 2.06-.94-2.06-.94-.94-2.06-.94 2.06-2.06.94z\"/><path d=\"M17.41 7.96l-1.37-1.37c-.4-.4-.92-.59-1.43-.59-.52 0-1.04.2-1.43.59L10.3 9.45l-7.72 7.72c-.78.78-.78 2.05 0 2.83L4 21.41c.39.39.9.59 1.41.59.51 0 1.02-.2 1.41-.59l7.78-7.78 2.81-2.81c.8-.78.8-2.07 0-2.86zM5.41 20L4 18.59l7.72-7.72 1.47 1.35L5.41 20z\"/>\n",
              "  </svg>\n",
              "      </button>\n",
              "      \n",
              "  <style>\n",
              "    .colab-df-container {\n",
              "      display:flex;\n",
              "      flex-wrap:wrap;\n",
              "      gap: 12px;\n",
              "    }\n",
              "\n",
              "    .colab-df-convert {\n",
              "      background-color: #E8F0FE;\n",
              "      border: none;\n",
              "      border-radius: 50%;\n",
              "      cursor: pointer;\n",
              "      display: none;\n",
              "      fill: #1967D2;\n",
              "      height: 32px;\n",
              "      padding: 0 0 0 0;\n",
              "      width: 32px;\n",
              "    }\n",
              "\n",
              "    .colab-df-convert:hover {\n",
              "      background-color: #E2EBFA;\n",
              "      box-shadow: 0px 1px 2px rgba(60, 64, 67, 0.3), 0px 1px 3px 1px rgba(60, 64, 67, 0.15);\n",
              "      fill: #174EA6;\n",
              "    }\n",
              "\n",
              "    [theme=dark] .colab-df-convert {\n",
              "      background-color: #3B4455;\n",
              "      fill: #D2E3FC;\n",
              "    }\n",
              "\n",
              "    [theme=dark] .colab-df-convert:hover {\n",
              "      background-color: #434B5C;\n",
              "      box-shadow: 0px 1px 3px 1px rgba(0, 0, 0, 0.15);\n",
              "      filter: drop-shadow(0px 1px 2px rgba(0, 0, 0, 0.3));\n",
              "      fill: #FFFFFF;\n",
              "    }\n",
              "  </style>\n",
              "\n",
              "      <script>\n",
              "        const buttonEl =\n",
              "          document.querySelector('#df-0cbf65cf-ddcb-47f7-86c3-d3b9e2671518 button.colab-df-convert');\n",
              "        buttonEl.style.display =\n",
              "          google.colab.kernel.accessAllowed ? 'block' : 'none';\n",
              "\n",
              "        async function convertToInteractive(key) {\n",
              "          const element = document.querySelector('#df-0cbf65cf-ddcb-47f7-86c3-d3b9e2671518');\n",
              "          const dataTable =\n",
              "            await google.colab.kernel.invokeFunction('convertToInteractive',\n",
              "                                                     [key], {});\n",
              "          if (!dataTable) return;\n",
              "\n",
              "          const docLinkHtml = 'Like what you see? Visit the ' +\n",
              "            '<a target=\"_blank\" href=https://colab.research.google.com/notebooks/data_table.ipynb>data table notebook</a>'\n",
              "            + ' to learn more about interactive tables.';\n",
              "          element.innerHTML = '';\n",
              "          dataTable['output_type'] = 'display_data';\n",
              "          await google.colab.output.renderOutput(dataTable, element);\n",
              "          const docLink = document.createElement('div');\n",
              "          docLink.innerHTML = docLinkHtml;\n",
              "          element.appendChild(docLink);\n",
              "        }\n",
              "      </script>\n",
              "    </div>\n",
              "  </div>\n",
              "  "
            ]
          },
          "metadata": {},
          "execution_count": 150
        }
      ]
    },
    {
      "cell_type": "code",
      "source": [
        "print(brfss.shape)"
      ],
      "metadata": {
        "colab": {
          "base_uri": "https://localhost:8080/"
        },
        "id": "R-ZFctteyFih",
        "outputId": "e1c35d5a-6e80-4c37-f9f6-e659487677be"
      },
      "execution_count": null,
      "outputs": [
        {
          "output_type": "stream",
          "name": "stdout",
          "text": [
            "(385974, 4)\n"
          ]
        }
      ]
    },
    {
      "cell_type": "markdown",
      "metadata": {
        "id": "UpGsuATsr2gl"
      },
      "source": [
        "%\ti. What is the max age for people in the dataset?"
      ]
    },
    {
      "cell_type": "code",
      "source": [
        "brfss['age'].max()"
      ],
      "metadata": {
        "colab": {
          "base_uri": "https://localhost:8080/"
        },
        "id": "bb2BsW7Hv1uS",
        "outputId": "d1e22821-e849-4260-b855-9acfeb02ce08"
      },
      "execution_count": null,
      "outputs": [
        {
          "output_type": "execute_result",
          "data": {
            "text/plain": [
              "99.0"
            ]
          },
          "metadata": {},
          "execution_count": 152
        }
      ]
    },
    {
      "cell_type": "markdown",
      "metadata": {
        "id": "EcRQZ4LYr2gm"
      },
      "source": [
        "% ii.\tWhat is the mean weight for people in the dataset?"
      ]
    },
    {
      "cell_type": "code",
      "source": [
        "brfss['weight'].mean()"
      ],
      "metadata": {
        "colab": {
          "base_uri": "https://localhost:8080/"
        },
        "id": "-nnePLqhv2Ij",
        "outputId": "d866b190-d2f1-4a4a-89f7-64afaef95377"
      },
      "execution_count": null,
      "outputs": [
        {
          "output_type": "execute_result",
          "data": {
            "text/plain": [
              "79.06146339580022"
            ]
          },
          "metadata": {},
          "execution_count": 153
        }
      ]
    },
    {
      "cell_type": "markdown",
      "metadata": {
        "id": "I1fTECeLr2gm"
      },
      "source": [
        "% iii.\tWhat is the mean weight for female in the dataset?"
      ]
    },
    {
      "cell_type": "code",
      "source": [
        "brfss[brfss['male'] == 0]['weight'].mean()"
      ],
      "metadata": {
        "colab": {
          "base_uri": "https://localhost:8080/"
        },
        "id": "QzH6UUUdv2gz",
        "outputId": "6195d437-1bdb-49ad-918c-a703eb35bbdc"
      },
      "execution_count": null,
      "outputs": [
        {
          "output_type": "execute_result",
          "data": {
            "text/plain": [
              "72.67662892626834"
            ]
          },
          "metadata": {},
          "execution_count": 154
        }
      ]
    },
    {
      "cell_type": "markdown",
      "metadata": {
        "id": "CG3cipSPr2gn"
      },
      "source": [
        "% iv.\tWhat is the median height for female in the dataset?"
      ]
    },
    {
      "cell_type": "code",
      "source": [
        "brfss[brfss['male'] == 0]['height'].median()"
      ],
      "metadata": {
        "colab": {
          "base_uri": "https://localhost:8080/"
        },
        "id": "4fuTnmo3v24R",
        "outputId": "215b0132-6d97-4922-d18e-5005bd31a276"
      },
      "execution_count": null,
      "outputs": [
        {
          "output_type": "execute_result",
          "data": {
            "text/plain": [
              "163.0"
            ]
          },
          "metadata": {},
          "execution_count": 155
        }
      ]
    },
    {
      "cell_type": "markdown",
      "metadata": {
        "id": "XdXzpWZ2r2gn"
      },
      "source": [
        "% v.\tWhat is the mean weight for female younger than 20 years old?"
      ]
    },
    {
      "cell_type": "code",
      "source": [
        "brfss[(brfss['male'] == 0) & (brfss['age'] < 20)]['weight'].mean()"
      ],
      "metadata": {
        "colab": {
          "base_uri": "https://localhost:8080/"
        },
        "id": "O-RhGW9xv3Qc",
        "outputId": "b7c2c43a-aaff-4784-e1b5-88c0f59b104d"
      },
      "execution_count": null,
      "outputs": [
        {
          "output_type": "execute_result",
          "data": {
            "text/plain": [
              "64.66934327502156"
            ]
          },
          "metadata": {},
          "execution_count": 156
        }
      ]
    },
    {
      "cell_type": "markdown",
      "metadata": {
        "id": "aq-GVTi6r2go"
      },
      "source": [
        "% vi.\tHow many males are in the dataset?"
      ]
    },
    {
      "cell_type": "code",
      "source": [
        "len(brfss[brfss['male'] == 1])"
      ],
      "metadata": {
        "colab": {
          "base_uri": "https://localhost:8080/"
        },
        "id": "uor1HGU_v3tG",
        "outputId": "fe8dfea5-3023-4378-8d88-ffb3f7678723"
      },
      "execution_count": null,
      "outputs": [
        {
          "output_type": "execute_result",
          "data": {
            "text/plain": [
              "150321"
            ]
          },
          "metadata": {},
          "execution_count": 157
        }
      ]
    },
    {
      "cell_type": "markdown",
      "metadata": {
        "id": "VXX7elUwr2go"
      },
      "source": [
        "% vii.\tHow many individuals in the dataset has height > 190cm and weight < 50kg?"
      ]
    },
    {
      "cell_type": "code",
      "source": [
        "len(brfss[(brfss['height'] > 190) & (brfss['weight'] < 50)])"
      ],
      "metadata": {
        "colab": {
          "base_uri": "https://localhost:8080/"
        },
        "id": "rTgqyFMav4Zw",
        "outputId": "0129cc8c-7b64-4600-d297-3b12a8bd879b"
      },
      "execution_count": null,
      "outputs": [
        {
          "output_type": "execute_result",
          "data": {
            "text/plain": [
              "12"
            ]
          },
          "metadata": {},
          "execution_count": 158
        }
      ]
    },
    {
      "cell_type": "markdown",
      "metadata": {
        "id": "ZA1s3fW7r2go"
      },
      "source": [
        "% viii.\tWhat is the average height of females whose weight is between 59 and 61 kg?"
      ]
    },
    {
      "cell_type": "code",
      "source": [
        "brfss[(brfss['male'] == 0) & (brfss['weight'].between(59, 61))]['height'].mean()"
      ],
      "metadata": {
        "colab": {
          "base_uri": "https://localhost:8080/"
        },
        "id": "STJ2TbVUv41Q",
        "outputId": "c2cc286c-3533-459e-c13b-8d2c4ee36801"
      },
      "execution_count": null,
      "outputs": [
        {
          "output_type": "execute_result",
          "data": {
            "text/plain": [
              "161.5588215235627"
            ]
          },
          "metadata": {},
          "execution_count": 159
        }
      ]
    },
    {
      "cell_type": "markdown",
      "metadata": {
        "id": "YYBeEek5r2gp"
      },
      "source": [
        "% ix.\tPrint out row 2001 to row 2010 (inclusive, a total of ten rows) from the dataframe."
      ]
    },
    {
      "cell_type": "code",
      "source": [
        "brfss.iloc[2001:2011, :]"
      ],
      "metadata": {
        "colab": {
          "base_uri": "https://localhost:8080/",
          "height": 363
        },
        "id": "IQjWElQTv5XO",
        "outputId": "2468982e-feda-4d41-c093-bf07fa54f3ee"
      },
      "execution_count": null,
      "outputs": [
        {
          "output_type": "execute_result",
          "data": {
            "text/plain": [
              "       age      weight  height  male\n",
              "2174  55.0   77.272727   173.0     1\n",
              "2175  54.0   86.363636   175.0     1\n",
              "2176  51.0   72.727273   183.0     1\n",
              "2177  22.0  122.727273   163.0     0\n",
              "2178  71.0   68.181818   180.0     1\n",
              "2179  82.0   72.727273   163.0     0\n",
              "2180  55.0  100.000000   183.0     1\n",
              "2181  53.0  127.272727   185.0     1\n",
              "2182  58.0   77.272727   173.0     1\n",
              "2183  58.0   77.272727   180.0     0"
            ],
            "text/html": [
              "\n",
              "  <div id=\"df-98d971b2-9c01-4509-a99f-8df1b273f9fe\">\n",
              "    <div class=\"colab-df-container\">\n",
              "      <div>\n",
              "<style scoped>\n",
              "    .dataframe tbody tr th:only-of-type {\n",
              "        vertical-align: middle;\n",
              "    }\n",
              "\n",
              "    .dataframe tbody tr th {\n",
              "        vertical-align: top;\n",
              "    }\n",
              "\n",
              "    .dataframe thead th {\n",
              "        text-align: right;\n",
              "    }\n",
              "</style>\n",
              "<table border=\"1\" class=\"dataframe\">\n",
              "  <thead>\n",
              "    <tr style=\"text-align: right;\">\n",
              "      <th></th>\n",
              "      <th>age</th>\n",
              "      <th>weight</th>\n",
              "      <th>height</th>\n",
              "      <th>male</th>\n",
              "    </tr>\n",
              "  </thead>\n",
              "  <tbody>\n",
              "    <tr>\n",
              "      <th>2174</th>\n",
              "      <td>55.0</td>\n",
              "      <td>77.272727</td>\n",
              "      <td>173.0</td>\n",
              "      <td>1</td>\n",
              "    </tr>\n",
              "    <tr>\n",
              "      <th>2175</th>\n",
              "      <td>54.0</td>\n",
              "      <td>86.363636</td>\n",
              "      <td>175.0</td>\n",
              "      <td>1</td>\n",
              "    </tr>\n",
              "    <tr>\n",
              "      <th>2176</th>\n",
              "      <td>51.0</td>\n",
              "      <td>72.727273</td>\n",
              "      <td>183.0</td>\n",
              "      <td>1</td>\n",
              "    </tr>\n",
              "    <tr>\n",
              "      <th>2177</th>\n",
              "      <td>22.0</td>\n",
              "      <td>122.727273</td>\n",
              "      <td>163.0</td>\n",
              "      <td>0</td>\n",
              "    </tr>\n",
              "    <tr>\n",
              "      <th>2178</th>\n",
              "      <td>71.0</td>\n",
              "      <td>68.181818</td>\n",
              "      <td>180.0</td>\n",
              "      <td>1</td>\n",
              "    </tr>\n",
              "    <tr>\n",
              "      <th>2179</th>\n",
              "      <td>82.0</td>\n",
              "      <td>72.727273</td>\n",
              "      <td>163.0</td>\n",
              "      <td>0</td>\n",
              "    </tr>\n",
              "    <tr>\n",
              "      <th>2180</th>\n",
              "      <td>55.0</td>\n",
              "      <td>100.000000</td>\n",
              "      <td>183.0</td>\n",
              "      <td>1</td>\n",
              "    </tr>\n",
              "    <tr>\n",
              "      <th>2181</th>\n",
              "      <td>53.0</td>\n",
              "      <td>127.272727</td>\n",
              "      <td>185.0</td>\n",
              "      <td>1</td>\n",
              "    </tr>\n",
              "    <tr>\n",
              "      <th>2182</th>\n",
              "      <td>58.0</td>\n",
              "      <td>77.272727</td>\n",
              "      <td>173.0</td>\n",
              "      <td>1</td>\n",
              "    </tr>\n",
              "    <tr>\n",
              "      <th>2183</th>\n",
              "      <td>58.0</td>\n",
              "      <td>77.272727</td>\n",
              "      <td>180.0</td>\n",
              "      <td>0</td>\n",
              "    </tr>\n",
              "  </tbody>\n",
              "</table>\n",
              "</div>\n",
              "      <button class=\"colab-df-convert\" onclick=\"convertToInteractive('df-98d971b2-9c01-4509-a99f-8df1b273f9fe')\"\n",
              "              title=\"Convert this dataframe to an interactive table.\"\n",
              "              style=\"display:none;\">\n",
              "        \n",
              "  <svg xmlns=\"http://www.w3.org/2000/svg\" height=\"24px\"viewBox=\"0 0 24 24\"\n",
              "       width=\"24px\">\n",
              "    <path d=\"M0 0h24v24H0V0z\" fill=\"none\"/>\n",
              "    <path d=\"M18.56 5.44l.94 2.06.94-2.06 2.06-.94-2.06-.94-.94-2.06-.94 2.06-2.06.94zm-11 1L8.5 8.5l.94-2.06 2.06-.94-2.06-.94L8.5 2.5l-.94 2.06-2.06.94zm10 10l.94 2.06.94-2.06 2.06-.94-2.06-.94-.94-2.06-.94 2.06-2.06.94z\"/><path d=\"M17.41 7.96l-1.37-1.37c-.4-.4-.92-.59-1.43-.59-.52 0-1.04.2-1.43.59L10.3 9.45l-7.72 7.72c-.78.78-.78 2.05 0 2.83L4 21.41c.39.39.9.59 1.41.59.51 0 1.02-.2 1.41-.59l7.78-7.78 2.81-2.81c.8-.78.8-2.07 0-2.86zM5.41 20L4 18.59l7.72-7.72 1.47 1.35L5.41 20z\"/>\n",
              "  </svg>\n",
              "      </button>\n",
              "      \n",
              "  <style>\n",
              "    .colab-df-container {\n",
              "      display:flex;\n",
              "      flex-wrap:wrap;\n",
              "      gap: 12px;\n",
              "    }\n",
              "\n",
              "    .colab-df-convert {\n",
              "      background-color: #E8F0FE;\n",
              "      border: none;\n",
              "      border-radius: 50%;\n",
              "      cursor: pointer;\n",
              "      display: none;\n",
              "      fill: #1967D2;\n",
              "      height: 32px;\n",
              "      padding: 0 0 0 0;\n",
              "      width: 32px;\n",
              "    }\n",
              "\n",
              "    .colab-df-convert:hover {\n",
              "      background-color: #E2EBFA;\n",
              "      box-shadow: 0px 1px 2px rgba(60, 64, 67, 0.3), 0px 1px 3px 1px rgba(60, 64, 67, 0.15);\n",
              "      fill: #174EA6;\n",
              "    }\n",
              "\n",
              "    [theme=dark] .colab-df-convert {\n",
              "      background-color: #3B4455;\n",
              "      fill: #D2E3FC;\n",
              "    }\n",
              "\n",
              "    [theme=dark] .colab-df-convert:hover {\n",
              "      background-color: #434B5C;\n",
              "      box-shadow: 0px 1px 3px 1px rgba(0, 0, 0, 0.15);\n",
              "      filter: drop-shadow(0px 1px 2px rgba(0, 0, 0, 0.3));\n",
              "      fill: #FFFFFF;\n",
              "    }\n",
              "  </style>\n",
              "\n",
              "      <script>\n",
              "        const buttonEl =\n",
              "          document.querySelector('#df-98d971b2-9c01-4509-a99f-8df1b273f9fe button.colab-df-convert');\n",
              "        buttonEl.style.display =\n",
              "          google.colab.kernel.accessAllowed ? 'block' : 'none';\n",
              "\n",
              "        async function convertToInteractive(key) {\n",
              "          const element = document.querySelector('#df-98d971b2-9c01-4509-a99f-8df1b273f9fe');\n",
              "          const dataTable =\n",
              "            await google.colab.kernel.invokeFunction('convertToInteractive',\n",
              "                                                     [key], {});\n",
              "          if (!dataTable) return;\n",
              "\n",
              "          const docLinkHtml = 'Like what you see? Visit the ' +\n",
              "            '<a target=\"_blank\" href=https://colab.research.google.com/notebooks/data_table.ipynb>data table notebook</a>'\n",
              "            + ' to learn more about interactive tables.';\n",
              "          element.innerHTML = '';\n",
              "          dataTable['output_type'] = 'display_data';\n",
              "          await google.colab.output.renderOutput(dataTable, element);\n",
              "          const docLink = document.createElement('div');\n",
              "          docLink.innerHTML = docLinkHtml;\n",
              "          element.appendChild(docLink);\n",
              "        }\n",
              "      </script>\n",
              "    </div>\n",
              "  </div>\n",
              "  "
            ]
          },
          "metadata": {},
          "execution_count": 160
        }
      ]
    },
    {
      "cell_type": "markdown",
      "metadata": {
        "id": "-ivPaeolr2gp"
      },
      "source": [
        "% x.\tPrint out rows with rowID from 2001 to 2010 (including 2010, but maybe less than 10 rows due to NaNs being dropped out) from the dataframe."
      ]
    },
    {
      "cell_type": "code",
      "source": [
        "brfss.loc[2001:2010, :]"
      ],
      "metadata": {
        "colab": {
          "base_uri": "https://localhost:8080/",
          "height": 332
        },
        "id": "HjPjbaCjv5tD",
        "outputId": "25efc604-f93b-4147-a317-c5ae39527af0"
      },
      "execution_count": null,
      "outputs": [
        {
          "output_type": "execute_result",
          "data": {
            "text/plain": [
              "       age      weight  height  male\n",
              "2001  54.0   90.000000   188.0     1\n",
              "2002  29.0   79.545455   175.0     0\n",
              "2004  30.0   90.909091   152.0     0\n",
              "2005  37.0   59.090909   165.0     0\n",
              "2006  25.0   97.727273   180.0     0\n",
              "2007  43.0   62.727273   165.0     0\n",
              "2008  40.0  100.909091   165.0     0\n",
              "2009  51.0   70.454545   157.0     0\n",
              "2010  45.0   85.000000   160.0     0"
            ],
            "text/html": [
              "\n",
              "  <div id=\"df-821c5b0e-2d06-4969-8a5a-7106d5d8e70c\">\n",
              "    <div class=\"colab-df-container\">\n",
              "      <div>\n",
              "<style scoped>\n",
              "    .dataframe tbody tr th:only-of-type {\n",
              "        vertical-align: middle;\n",
              "    }\n",
              "\n",
              "    .dataframe tbody tr th {\n",
              "        vertical-align: top;\n",
              "    }\n",
              "\n",
              "    .dataframe thead th {\n",
              "        text-align: right;\n",
              "    }\n",
              "</style>\n",
              "<table border=\"1\" class=\"dataframe\">\n",
              "  <thead>\n",
              "    <tr style=\"text-align: right;\">\n",
              "      <th></th>\n",
              "      <th>age</th>\n",
              "      <th>weight</th>\n",
              "      <th>height</th>\n",
              "      <th>male</th>\n",
              "    </tr>\n",
              "  </thead>\n",
              "  <tbody>\n",
              "    <tr>\n",
              "      <th>2001</th>\n",
              "      <td>54.0</td>\n",
              "      <td>90.000000</td>\n",
              "      <td>188.0</td>\n",
              "      <td>1</td>\n",
              "    </tr>\n",
              "    <tr>\n",
              "      <th>2002</th>\n",
              "      <td>29.0</td>\n",
              "      <td>79.545455</td>\n",
              "      <td>175.0</td>\n",
              "      <td>0</td>\n",
              "    </tr>\n",
              "    <tr>\n",
              "      <th>2004</th>\n",
              "      <td>30.0</td>\n",
              "      <td>90.909091</td>\n",
              "      <td>152.0</td>\n",
              "      <td>0</td>\n",
              "    </tr>\n",
              "    <tr>\n",
              "      <th>2005</th>\n",
              "      <td>37.0</td>\n",
              "      <td>59.090909</td>\n",
              "      <td>165.0</td>\n",
              "      <td>0</td>\n",
              "    </tr>\n",
              "    <tr>\n",
              "      <th>2006</th>\n",
              "      <td>25.0</td>\n",
              "      <td>97.727273</td>\n",
              "      <td>180.0</td>\n",
              "      <td>0</td>\n",
              "    </tr>\n",
              "    <tr>\n",
              "      <th>2007</th>\n",
              "      <td>43.0</td>\n",
              "      <td>62.727273</td>\n",
              "      <td>165.0</td>\n",
              "      <td>0</td>\n",
              "    </tr>\n",
              "    <tr>\n",
              "      <th>2008</th>\n",
              "      <td>40.0</td>\n",
              "      <td>100.909091</td>\n",
              "      <td>165.0</td>\n",
              "      <td>0</td>\n",
              "    </tr>\n",
              "    <tr>\n",
              "      <th>2009</th>\n",
              "      <td>51.0</td>\n",
              "      <td>70.454545</td>\n",
              "      <td>157.0</td>\n",
              "      <td>0</td>\n",
              "    </tr>\n",
              "    <tr>\n",
              "      <th>2010</th>\n",
              "      <td>45.0</td>\n",
              "      <td>85.000000</td>\n",
              "      <td>160.0</td>\n",
              "      <td>0</td>\n",
              "    </tr>\n",
              "  </tbody>\n",
              "</table>\n",
              "</div>\n",
              "      <button class=\"colab-df-convert\" onclick=\"convertToInteractive('df-821c5b0e-2d06-4969-8a5a-7106d5d8e70c')\"\n",
              "              title=\"Convert this dataframe to an interactive table.\"\n",
              "              style=\"display:none;\">\n",
              "        \n",
              "  <svg xmlns=\"http://www.w3.org/2000/svg\" height=\"24px\"viewBox=\"0 0 24 24\"\n",
              "       width=\"24px\">\n",
              "    <path d=\"M0 0h24v24H0V0z\" fill=\"none\"/>\n",
              "    <path d=\"M18.56 5.44l.94 2.06.94-2.06 2.06-.94-2.06-.94-.94-2.06-.94 2.06-2.06.94zm-11 1L8.5 8.5l.94-2.06 2.06-.94-2.06-.94L8.5 2.5l-.94 2.06-2.06.94zm10 10l.94 2.06.94-2.06 2.06-.94-2.06-.94-.94-2.06-.94 2.06-2.06.94z\"/><path d=\"M17.41 7.96l-1.37-1.37c-.4-.4-.92-.59-1.43-.59-.52 0-1.04.2-1.43.59L10.3 9.45l-7.72 7.72c-.78.78-.78 2.05 0 2.83L4 21.41c.39.39.9.59 1.41.59.51 0 1.02-.2 1.41-.59l7.78-7.78 2.81-2.81c.8-.78.8-2.07 0-2.86zM5.41 20L4 18.59l7.72-7.72 1.47 1.35L5.41 20z\"/>\n",
              "  </svg>\n",
              "      </button>\n",
              "      \n",
              "  <style>\n",
              "    .colab-df-container {\n",
              "      display:flex;\n",
              "      flex-wrap:wrap;\n",
              "      gap: 12px;\n",
              "    }\n",
              "\n",
              "    .colab-df-convert {\n",
              "      background-color: #E8F0FE;\n",
              "      border: none;\n",
              "      border-radius: 50%;\n",
              "      cursor: pointer;\n",
              "      display: none;\n",
              "      fill: #1967D2;\n",
              "      height: 32px;\n",
              "      padding: 0 0 0 0;\n",
              "      width: 32px;\n",
              "    }\n",
              "\n",
              "    .colab-df-convert:hover {\n",
              "      background-color: #E2EBFA;\n",
              "      box-shadow: 0px 1px 2px rgba(60, 64, 67, 0.3), 0px 1px 3px 1px rgba(60, 64, 67, 0.15);\n",
              "      fill: #174EA6;\n",
              "    }\n",
              "\n",
              "    [theme=dark] .colab-df-convert {\n",
              "      background-color: #3B4455;\n",
              "      fill: #D2E3FC;\n",
              "    }\n",
              "\n",
              "    [theme=dark] .colab-df-convert:hover {\n",
              "      background-color: #434B5C;\n",
              "      box-shadow: 0px 1px 3px 1px rgba(0, 0, 0, 0.15);\n",
              "      filter: drop-shadow(0px 1px 2px rgba(0, 0, 0, 0.3));\n",
              "      fill: #FFFFFF;\n",
              "    }\n",
              "  </style>\n",
              "\n",
              "      <script>\n",
              "        const buttonEl =\n",
              "          document.querySelector('#df-821c5b0e-2d06-4969-8a5a-7106d5d8e70c button.colab-df-convert');\n",
              "        buttonEl.style.display =\n",
              "          google.colab.kernel.accessAllowed ? 'block' : 'none';\n",
              "\n",
              "        async function convertToInteractive(key) {\n",
              "          const element = document.querySelector('#df-821c5b0e-2d06-4969-8a5a-7106d5d8e70c');\n",
              "          const dataTable =\n",
              "            await google.colab.kernel.invokeFunction('convertToInteractive',\n",
              "                                                     [key], {});\n",
              "          if (!dataTable) return;\n",
              "\n",
              "          const docLinkHtml = 'Like what you see? Visit the ' +\n",
              "            '<a target=\"_blank\" href=https://colab.research.google.com/notebooks/data_table.ipynb>data table notebook</a>'\n",
              "            + ' to learn more about interactive tables.';\n",
              "          element.innerHTML = '';\n",
              "          dataTable['output_type'] = 'display_data';\n",
              "          await google.colab.output.renderOutput(dataTable, element);\n",
              "          const docLink = document.createElement('div');\n",
              "          docLink.innerHTML = docLinkHtml;\n",
              "          element.appendChild(docLink);\n",
              "        }\n",
              "      </script>\n",
              "    </div>\n",
              "  </div>\n",
              "  "
            ]
          },
          "metadata": {},
          "execution_count": 161
        }
      ]
    },
    {
      "cell_type": "markdown",
      "metadata": {
        "id": "lt-EblNpr2gy"
      },
      "source": [
        "% Q3a (10 pts) From the brfss DataFrame created in Q2a, use the height column as Y, and weight column as X\n",
        "to perform a simple linear regression (See 6-regression.ppt slide #23, lr.fit). Print out the equation that is\n",
        "obtained by the linear regression in the form of “height = a + b * weight” (replace a and b with the\n",
        "values obtained from the linear regression, lr.intercept_ and lr.coef_.) (Note: you need to either make X\n",
        "a DataFrame or reshape X to be a n x 1 numpy array using reshape(-1, 1); see simpleRegression.ipynb.)"
      ]
    },
    {
      "cell_type": "code",
      "source": [
        "import pandas as pd\n",
        "from sklearn.linear_model import LinearRegression\n",
        "from sklearn.model_selection import train_test_split\n",
        "from sklearn.metrics import r2_score\n",
        "from sklearn.metrics import mean_squared_error as mse"
      ],
      "metadata": {
        "id": "9HtjWz6gx6qZ"
      },
      "execution_count": null,
      "outputs": []
    },
    {
      "cell_type": "code",
      "source": [
        "X = brfss[['weight']].values\n",
        "Y = brfss['height'].values\n",
        "X_train, X_test, y_train, y_test = train_test_split(X, Y, test_size=0.2)\n",
        "lr = LinearRegression()\n",
        "lr.fit(X_train, y_train)\n",
        "y_pred = lr.predict(X_test)\n",
        "print('Coefficient:', lr.coef_)\n",
        "print('Intercept:', lr.intercept_)\n",
        "a = lr.coef_[0].round(3)\n",
        "b = lr.intercept_.round(3)\n",
        "print(f'height = {a} + {b} * weight')"
      ],
      "metadata": {
        "colab": {
          "base_uri": "https://localhost:8080/"
        },
        "id": "yIQzZSfyyrAp",
        "outputId": "94beca62-6b70-4631-db07-784432c0c669"
      },
      "execution_count": null,
      "outputs": [
        {
          "output_type": "stream",
          "name": "stdout",
          "text": [
            "Coefficient: [0.2710445]\n",
            "Intercept: 147.57963532794392\n",
            "height = 0.271 + 147.58 * weight\n"
          ]
        }
      ]
    },
    {
      "cell_type": "markdown",
      "metadata": {
        "id": "R3UQgWqer2gz"
      },
      "source": [
        "% Q3b (4 pts) Use the linear regression object that you obtained in 3a to predict the height of an individual\n",
        "whose weight is 60kg (with lr.predict). Print out the predicted height. (As in 3a, make the value 60 a\n",
        "dataframe or a 1x1 numpy 2d array.)"
      ]
    },
    {
      "cell_type": "code",
      "source": [
        "lr.predict([[60]])\n",
        "weight = 60\n",
        "height = lr.predict([[weight]])[0].round(2)\n",
        "print(f'Predicted height for the weight {weight} is {height}')"
      ],
      "metadata": {
        "colab": {
          "base_uri": "https://localhost:8080/"
        },
        "id": "oTzqJH1Ix7BD",
        "outputId": "8f4f095f-0163-4477-b684-773602ae742c"
      },
      "execution_count": null,
      "outputs": [
        {
          "output_type": "stream",
          "name": "stdout",
          "text": [
            "Predicted height for the weight 60 is 163.84\n"
          ]
        }
      ]
    },
    {
      "cell_type": "markdown",
      "metadata": {
        "id": "BH0VP5Qwr2gz"
      },
      "source": [
        "% Q3c (6 pts) Compute the MSE and R-square of the simple linear regression. (Slide #23, Imported as r2 and\n",
        "mse.)"
      ]
    },
    {
      "cell_type": "code",
      "source": [
        "print('R-Square:', r2_score(y_test, y_pred).round(3))\n",
        "print('MSE:', mse(y_test, y_pred).round(3))"
      ],
      "metadata": {
        "colab": {
          "base_uri": "https://localhost:8080/"
        },
        "id": "AYiE0mO3x7Xr",
        "outputId": "4607dcce-0e86-476b-a261-eaf62c2b4381"
      },
      "execution_count": null,
      "outputs": [
        {
          "output_type": "stream",
          "name": "stdout",
          "text": [
            "R-Square: 0.268\n",
            "MSE: 79.598\n"
          ]
        }
      ]
    },
    {
      "cell_type": "markdown",
      "metadata": {
        "id": "ObbXnb6Ir2gz"
      },
      "source": [
        "% Q3d (10 pts) From the brfss DataFrame above, use the height column as Y, and two columns, weight and\n",
        "male, as X, to perform a multiple linear regression (slides #34). Print out the equation that is obtained by\n",
        "the linear regression in the form of “height = a + b * weight + c * male” (replace a, b and c with the\n",
        "values in lr.intercept_ and lr.coef_.) (FYI: compare the a, b, c values from the a, b values from Q3a.)"
      ]
    },
    {
      "cell_type": "code",
      "source": [
        "X = brfss[['weight', 'male']].values\n",
        "Y = brfss['height'].values\n",
        "X_train, X_test, y_train, y_test = train_test_split(X, Y, test_size=0.2)\n",
        "lr.fit(X_train, y_train)\n",
        "y_pred = lr.predict(X_test)\n",
        "print('Coefficients:', lr.coef_)\n",
        "print('Intercept:', lr.intercept_)\n",
        "a = lr.coef_[0].round(3)\n",
        "b = lr.coef_[1].round(3)\n",
        "c = lr.intercept_.round(3)\n",
        "print(f'height = {a} + {b} * weight + {c} * male ')"
      ],
      "metadata": {
        "colab": {
          "base_uri": "https://localhost:8080/"
        },
        "id": "HVErrJMBx7w9",
        "outputId": "6a28d1bf-0813-4750-f607-8523c0f72d78"
      },
      "execution_count": null,
      "outputs": [
        {
          "output_type": "stream",
          "name": "stdout",
          "text": [
            "Coefficients: [ 0.14352438 12.54671096]\n",
            "Intercept: 152.77422258054136\n",
            "height = 0.144 + 12.547 * weight + 152.774 * male \n"
          ]
        }
      ]
    },
    {
      "cell_type": "markdown",
      "metadata": {
        "id": "tf7mCec-r2g0"
      },
      "source": [
        "% Q3e (3 pts) Use the linear regression object that you obtained in 3d to predict the height of a male whose\n",
        "weight is 60kg. Print out the predicted height.\n"
      ]
    },
    {
      "cell_type": "code",
      "source": [
        "lr.predict([[60, 1]])\n",
        "male = 1\n",
        "weight = 60\n",
        "height = lr.predict([[weight, male]])[0].round(2)\n",
        "print(f'Predicted height for the male whose weight {weight} is {height}')"
      ],
      "metadata": {
        "colab": {
          "base_uri": "https://localhost:8080/"
        },
        "id": "vOXz4HSBx-Ng",
        "outputId": "6a6414dc-540f-4c3f-d4da-93defa0b5398"
      },
      "execution_count": null,
      "outputs": [
        {
          "output_type": "stream",
          "name": "stdout",
          "text": [
            "Predicted height for the male whose weight 60 is 173.93\n"
          ]
        }
      ]
    },
    {
      "cell_type": "markdown",
      "metadata": {
        "id": "i92B7K75r2g0"
      },
      "source": [
        "% Q3f (3 pts) Use the linear regression object that you obtained in 3d to predict the height of a female whose\n",
        "weight is 60kg. Print out the predicted height. (Just FYI, what is the difference between this predicted\n",
        "value and the one in Q3e? Is it equal to the coefficient c you obtained in Q3d?)"
      ]
    },
    {
      "cell_type": "code",
      "source": [
        "lr.predict([[60, 1]])\n",
        "male = 0\n",
        "weight = 60\n",
        "height = lr.predict([[weight, male]])[0].round(2)\n",
        "print(f'Predicted height for the female whose weight {weight} is {height}')"
      ],
      "metadata": {
        "colab": {
          "base_uri": "https://localhost:8080/"
        },
        "id": "4wYg0Ggbx-kR",
        "outputId": "d39a74ef-bb61-4d85-b07d-e4720f4bb3e1"
      },
      "execution_count": null,
      "outputs": [
        {
          "output_type": "stream",
          "name": "stdout",
          "text": [
            "Predicted height for the female whose weight 60 is 161.39\n"
          ]
        }
      ]
    },
    {
      "cell_type": "markdown",
      "metadata": {
        "id": "LU5rIZZyr2g1"
      },
      "source": [
        "% Q3g (4 pts) Compute the MSE and R-square of the multiple linear regression. (FYI: how do these two values\n",
        "compare with the values from Q3c?)"
      ]
    },
    {
      "cell_type": "code",
      "source": [
        "print('R-Square:', r2_score(y_test, y_pred).round(3))\n",
        "print('MSE:', mse(y_test, y_pred).round(3))"
      ],
      "metadata": {
        "colab": {
          "base_uri": "https://localhost:8080/"
        },
        "id": "24rFmC-zx_IU",
        "outputId": "45cf088e-97db-4095-f9ca-0e871f0e00c3"
      },
      "execution_count": null,
      "outputs": [
        {
          "output_type": "stream",
          "name": "stdout",
          "text": [
            "R-Square: 0.55\n",
            "MSE: 48.492\n"
          ]
        }
      ]
    }
  ],
  "metadata": {
    "kernelspec": {
      "display_name": "Python 3",
      "language": "python",
      "name": "python3"
    },
    "language_info": {
      "codemirror_mode": {
        "name": "ipython",
        "version": 3
      },
      "file_extension": ".py",
      "mimetype": "text/x-python",
      "name": "python",
      "nbconvert_exporter": "python",
      "pygments_lexer": "ipython3",
      "version": "3.6.4"
    },
    "colab": {
      "provenance": [],
      "include_colab_link": true
    }
  },
  "nbformat": 4,
  "nbformat_minor": 0
}