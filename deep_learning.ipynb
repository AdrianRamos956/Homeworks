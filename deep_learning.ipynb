{
  "nbformat": 4,
  "nbformat_minor": 0,
  "metadata": {
    "colab": {
      "provenance": [],
      "toc_visible": true
    },
    "kernelspec": {
      "name": "python3",
      "display_name": "Python 3"
    }
  },
  "cells": [
    {
      "cell_type": "code",
      "metadata": {
        "id": "xvRYJvVLiM1v"
      },
      "source": [
        "import tensorflow as tf\n",
        "import numpy as np\n",
        "from tensorflow import keras\n",
        "import matplotlib.pyplot as plt\n",
        "import tensorflow_datasets as tfds\n"
      ],
      "execution_count": null,
      "outputs": []
    },
    {
      "cell_type": "markdown",
      "metadata": {
        "id": "VhP7oY2IvWWr"
      },
      "source": [
        "# **Sample Equation Data**"
      ]
    },
    {
      "cell_type": "markdown",
      "metadata": {
        "id": "q428lUlxvePB"
      },
      "source": [
        "## load, clean and prepare data"
      ]
    },
    {
      "cell_type": "code",
      "metadata": {
        "id": "LXEgAJrukbWH"
      },
      "source": [
        "xs = np.array([-1.0, 0.0, 1.0, 2.0, 3.0, 4.0], dtype=float)\n",
        "ys = np.array([-2.0, 1.0, 4.0, 7.0, 10.0, 13.0], dtype=float)"
      ],
      "execution_count": null,
      "outputs": []
    },
    {
      "cell_type": "markdown",
      "metadata": {
        "id": "RmcWOp5lvtYL"
      },
      "source": [
        "## build the model"
      ]
    },
    {
      "cell_type": "code",
      "metadata": {
        "id": "jV6Jy8uUjyt8",
        "colab": {
          "base_uri": "https://localhost:8080/",
          "height": 208
        },
        "outputId": "e33d136a-2646-4605-ae01-3704779cf01c"
      },
      "source": [
        "model = tf.keras.Sequential([keras.layers.Dense(units=1, input_shape=[1])])\n",
        "model.compile(optimizer='sgd', loss='mean_squared_error')\n",
        "print(model.summary())\n"
      ],
      "execution_count": null,
      "outputs": [
        {
          "output_type": "stream",
          "text": [
            "Model: \"sequential\"\n",
            "_________________________________________________________________\n",
            "Layer (type)                 Output Shape              Param #   \n",
            "=================================================================\n",
            "dense (Dense)                (None, 1)                 2         \n",
            "=================================================================\n",
            "Total params: 2\n",
            "Trainable params: 2\n",
            "Non-trainable params: 0\n",
            "_________________________________________________________________\n",
            "None\n"
          ],
          "name": "stdout"
        }
      ]
    },
    {
      "cell_type": "markdown",
      "metadata": {
        "id": "EDbALcInv5zq"
      },
      "source": [
        "## train the model - fit the training data"
      ]
    },
    {
      "cell_type": "code",
      "metadata": {
        "id": "PHusUVmVkiiR",
        "colab": {
          "base_uri": "https://localhost:8080/",
          "height": 35
        },
        "outputId": "cd5bc166-f42f-43d7-f39a-d5cbfd2ff00a"
      },
      "source": [
        "model.fit(xs, ys, epochs=1000, verbose=0)"
      ],
      "execution_count": null,
      "outputs": [
        {
          "output_type": "execute_result",
          "data": {
            "text/plain": [
              "<tensorflow.python.keras.callbacks.History at 0x7f59b7bb5240>"
            ]
          },
          "metadata": {
            "tags": []
          },
          "execution_count": 4
        }
      ]
    },
    {
      "cell_type": "markdown",
      "metadata": {
        "id": "VNC7xOzfwGq2"
      },
      "source": [
        "## evaluate the model"
      ]
    },
    {
      "cell_type": "code",
      "metadata": {
        "id": "OEMChHQVksdG",
        "colab": {
          "base_uri": "https://localhost:8080/",
          "height": 35
        },
        "outputId": "c48c3a01-e370-47b5-d9ba-eb81dd1e6d07"
      },
      "source": [
        "print(model.predict([10.0]))"
      ],
      "execution_count": null,
      "outputs": [
        {
          "output_type": "stream",
          "text": [
            "[[31.00004]]\n"
          ],
          "name": "stdout"
        }
      ]
    },
    {
      "cell_type": "markdown",
      "metadata": {
        "id": "kIjDID6zow5r"
      },
      "source": [
        "# **MNIST Dataset**"
      ]
    },
    {
      "cell_type": "markdown",
      "metadata": {
        "id": "9jvVveqfvpny"
      },
      "source": [
        "## load, clean and prepare data"
      ]
    },
    {
      "cell_type": "code",
      "metadata": {
        "id": "8wmJlyGXoc-u",
        "colab": {
          "base_uri": "https://localhost:8080/",
          "height": 52
        },
        "outputId": "99d0459e-d96b-46fa-c923-d40d48246f82"
      },
      "source": [
        "#(x_train, y_train), (x_test, y_test) = keras.datasets.mnist.load_data()\n",
        "x_train, y_train = tfds.as_numpy(tfds.load('mnist', as_supervised=True, split='train', batch_size=-1))\n",
        "x_test, y_test = tfds.as_numpy(tfds.load('mnist', as_supervised=True, split='test', batch_size=-1))\n",
        "\n",
        "x_train, x_test = x_train / 255.0, x_test / 255.0\n",
        "print(x_train.shape)\n",
        "print(x_test.shape)\n"
      ],
      "execution_count": null,
      "outputs": [
        {
          "output_type": "stream",
          "text": [
            "(60000, 28, 28, 1)\n",
            "(10000, 28, 28, 1)\n"
          ],
          "name": "stdout"
        }
      ]
    },
    {
      "cell_type": "markdown",
      "metadata": {
        "id": "PnTheDaav2Rp"
      },
      "source": [
        "## build the model"
      ]
    },
    {
      "cell_type": "code",
      "metadata": {
        "id": "NoqB10A-owZb",
        "colab": {
          "base_uri": "https://localhost:8080/",
          "height": 243
        },
        "outputId": "9192258a-5337-45db-d776-77ed3b534b28"
      },
      "source": [
        "mnist_model = keras.Sequential([\n",
        "                                keras.layers.Flatten(input_shape=(28,28,1)),\n",
        "                                #keras.layers.Dense(128, activation='relu'),\n",
        "                                keras.layers.Dense(10, activation='softmax')\n",
        "                                ])\n",
        "mnist_model.compile(\n",
        "    optimizer='SGD',\n",
        "    loss='sparse_categorical_crossentropy',\n",
        "    metrics=['accuracy']\n",
        "    )\n",
        "print(mnist_model.summary())\n"
      ],
      "execution_count": null,
      "outputs": [
        {
          "output_type": "stream",
          "text": [
            "Model: \"sequential_1\"\n",
            "_________________________________________________________________\n",
            "Layer (type)                 Output Shape              Param #   \n",
            "=================================================================\n",
            "flatten (Flatten)            (None, 784)               0         \n",
            "_________________________________________________________________\n",
            "dense_1 (Dense)              (None, 10)                7850      \n",
            "=================================================================\n",
            "Total params: 7,850\n",
            "Trainable params: 7,850\n",
            "Non-trainable params: 0\n",
            "_________________________________________________________________\n",
            "None\n"
          ],
          "name": "stdout"
        }
      ]
    },
    {
      "cell_type": "markdown",
      "metadata": {
        "id": "OLP69DynwDN5"
      },
      "source": [
        "## train the model - fit the training data"
      ]
    },
    {
      "cell_type": "code",
      "metadata": {
        "id": "b5-oT8L1p_mo",
        "colab": {
          "base_uri": "https://localhost:8080/",
          "height": 52
        },
        "outputId": "1d286c8f-4e86-461f-b82b-ea1cdb0a7580"
      },
      "source": [
        "mnist_model.fit(x_train, y_train, epochs=1, batch_size=1)"
      ],
      "execution_count": null,
      "outputs": [
        {
          "output_type": "stream",
          "text": [
            "60000/60000 [==============================] - 62s 1ms/step - loss: 0.3621 - accuracy: 0.8966\n"
          ],
          "name": "stdout"
        },
        {
          "output_type": "execute_result",
          "data": {
            "text/plain": [
              "<tensorflow.python.keras.callbacks.History at 0x7f59b4cf5390>"
            ]
          },
          "metadata": {
            "tags": []
          },
          "execution_count": 8
        }
      ]
    },
    {
      "cell_type": "markdown",
      "metadata": {
        "id": "AALFZB9hwMtf"
      },
      "source": [
        "## evaluate the model"
      ]
    },
    {
      "cell_type": "code",
      "metadata": {
        "id": "g2qq0hNtqlga",
        "colab": {
          "base_uri": "https://localhost:8080/",
          "height": 52
        },
        "outputId": "64f889a2-a8c2-49aa-a9f4-4f15eb393b82"
      },
      "source": [
        "mnist_model.evaluate(x_test,y_test,batch_size=1)"
      ],
      "execution_count": null,
      "outputs": [
        {
          "output_type": "stream",
          "text": [
            "10000/10000 [==============================] - 9s 907us/step - loss: 0.2883 - accuracy: 0.9205\n"
          ],
          "name": "stdout"
        },
        {
          "output_type": "execute_result",
          "data": {
            "text/plain": [
              "[0.28832605481147766, 0.9204999804496765]"
            ]
          },
          "metadata": {
            "tags": []
          },
          "execution_count": 9
        }
      ]
    },
    {
      "cell_type": "markdown",
      "metadata": {
        "id": "OYMz0Bh1o1EJ"
      },
      "source": [
        "# **Boston Housing Price Dataset**"
      ]
    },
    {
      "cell_type": "markdown",
      "metadata": {
        "id": "9oY0rYntvr_A"
      },
      "source": [
        "## load, clean and prepare data"
      ]
    },
    {
      "cell_type": "code",
      "metadata": {
        "id": "rOGWM2unk7cj",
        "colab": {
          "base_uri": "https://localhost:8080/",
          "height": 35
        },
        "outputId": "64cda764-3c01-48b0-9b05-aa5bf97ec77f"
      },
      "source": [
        "(x_train, y_train), (x_test, y_test) = keras.datasets.boston_housing.load_data()\n",
        "print(x_train.shape)\n"
      ],
      "execution_count": null,
      "outputs": [
        {
          "output_type": "stream",
          "text": [
            "(404, 13)\n"
          ],
          "name": "stdout"
        }
      ]
    },
    {
      "cell_type": "markdown",
      "metadata": {
        "id": "Q45FiWVwv3Ea"
      },
      "source": [
        "## build the model"
      ]
    },
    {
      "cell_type": "code",
      "metadata": {
        "id": "Q0XAuJOvlP81",
        "colab": {
          "base_uri": "https://localhost:8080/",
          "height": 277
        },
        "outputId": "0f3580d7-79d9-4c3e-93f7-02cdd2dfd546"
      },
      "source": [
        "house_model = keras.Sequential([\n",
        "                                keras.layers.Dense(units=64, input_shape=[x_train.shape[1]], activation='relu'),\n",
        "                                keras.layers.Dense(units=64, activation='relu'),\n",
        "                                keras.layers.Dense(units=1, activation='linear')\n",
        "                                ])\n",
        "house_model.compile(optimizer='RMSprop', loss='mse', metrics=['mse', 'mae'])\n",
        "print(house_model.summary())\n"
      ],
      "execution_count": null,
      "outputs": [
        {
          "output_type": "stream",
          "text": [
            "Model: \"sequential_2\"\n",
            "_________________________________________________________________\n",
            "Layer (type)                 Output Shape              Param #   \n",
            "=================================================================\n",
            "dense_2 (Dense)              (None, 64)                896       \n",
            "_________________________________________________________________\n",
            "dense_3 (Dense)              (None, 64)                4160      \n",
            "_________________________________________________________________\n",
            "dense_4 (Dense)              (None, 1)                 65        \n",
            "=================================================================\n",
            "Total params: 5,121\n",
            "Trainable params: 5,121\n",
            "Non-trainable params: 0\n",
            "_________________________________________________________________\n",
            "None\n"
          ],
          "name": "stdout"
        }
      ]
    },
    {
      "cell_type": "markdown",
      "metadata": {
        "id": "h6TrboQPwD6g"
      },
      "source": [
        "## train the model - fit the training data"
      ]
    },
    {
      "cell_type": "code",
      "metadata": {
        "id": "UJSfzeU2lnzw",
        "colab": {
          "base_uri": "https://localhost:8080/",
          "height": 35
        },
        "outputId": "47a7cf23-b56f-4dfc-cb0b-5474449e9de6"
      },
      "source": [
        "house_model.fit(x_train, y_train, epochs=1000, verbose=0)"
      ],
      "execution_count": null,
      "outputs": [
        {
          "output_type": "execute_result",
          "data": {
            "text/plain": [
              "<tensorflow.python.keras.callbacks.History at 0x7f59b69bafd0>"
            ]
          },
          "metadata": {
            "tags": []
          },
          "execution_count": 12
        }
      ]
    },
    {
      "cell_type": "markdown",
      "metadata": {
        "id": "Y9y5KTPBwOd3"
      },
      "source": [
        "## evaluate the model"
      ]
    },
    {
      "cell_type": "code",
      "metadata": {
        "id": "SvtGh-ccltFr",
        "colab": {
          "base_uri": "https://localhost:8080/",
          "height": 52
        },
        "outputId": "e6ecb0e4-aacd-4abf-ff9e-c650eacc3e6e"
      },
      "source": [
        "house_model.evaluate(x_test,y_test)"
      ],
      "execution_count": null,
      "outputs": [
        {
          "output_type": "stream",
          "text": [
            "4/4 [==============================] - 0s 2ms/step - loss: 34.5645 - mse: 34.5645 - mae: 4.1302\n"
          ],
          "name": "stdout"
        },
        {
          "output_type": "execute_result",
          "data": {
            "text/plain": [
              "[34.56452941894531, 34.56452941894531, 4.130185127258301]"
            ]
          },
          "metadata": {
            "tags": []
          },
          "execution_count": 13
        }
      ]
    },
    {
      "cell_type": "code",
      "metadata": {
        "id": "4tb_GydAm84U",
        "colab": {
          "base_uri": "https://localhost:8080/",
          "height": 611
        },
        "outputId": "4d8f8866-2403-4983-cabf-00fa9630203f"
      },
      "source": [
        "y_test_pred = house_model.predict(x_test).flatten()\n",
        "\n",
        "f, ax = plt.subplots(figsize = (15,10))\n",
        "plt.rc('font', size=18)\n",
        "ax.set_xlabel(\"Original Price\")\n",
        "ax.set_ylabel(\"Predicted Price\")\n",
        "ax.xaxis.label.set_color('white')\n",
        "ax.yaxis.label.set_color('white')\n",
        "ax.tick_params(colors='white')\n",
        "plt.scatter(x=y_test, y=y_test_pred, color='blue')\n",
        "z = np.polyfit(y_test, y_test_pred, 1)\n",
        "p = np.poly1d(z)\n",
        "plt.plot(y_test,p(y_test),'r')\n"
      ],
      "execution_count": null,
      "outputs": [
        {
          "output_type": "execute_result",
          "data": {
            "text/plain": [
              "[<matplotlib.lines.Line2D at 0x7f59b5878358>]"
            ]
          },
          "metadata": {
            "tags": []
          },
          "execution_count": 14
        },
        {
          "output_type": "display_data",
          "data": {
            "image/png": "[encoded data removed]",
            "text/plain": [
              "<Figure size 1080x720 with 1 Axes>"
            ]
          },
          "metadata": {
            "tags": [],
            "needs_background": "dark"
          }
        }
      ]
    }
  ]
}