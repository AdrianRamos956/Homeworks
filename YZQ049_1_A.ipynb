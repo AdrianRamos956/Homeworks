{
  "nbformat": 4,
  "nbformat_minor": 0,
  "metadata": {
    "colab": {
      "provenance": []
    },
    "kernelspec": {
      "name": "python3",
      "display_name": "Python 3"
    },
    "language_info": {
      "name": "python"
    }
  },
  "cells": [
    {
      "cell_type": "markdown",
      "metadata": {
        "id": "duFaavGiOY0r"
      },
      "source": [
        "[1] At first, please find the required dataset for this lab named as 'housing.data1.txt'. You need\n",
        "to upload the dataset to your Google Colab environment first. Then import the required\n",
        "packages like below"
      ]
    },
    {
      "cell_type": "code",
      "metadata": {
        "id": "E1zm7pX3KCV9"
      },
      "source": [
        "import pandas as pd\n",
        "import numpy as np"
      ],
      "execution_count": null,
      "outputs": []
    },
    {
      "cell_type": "markdown",
      "metadata": {
        "id": "l1bKPLr5OgKn"
      },
      "source": [
        "[2] Import your dataset using pandas and Create a dataframe"
      ]
    },
    {
      "cell_type": "code",
      "metadata": {
        "id": "H29b7zOZKH7z"
      },
      "source": [
        "dataset = pd.read_csv('housing.data1.txt',header = None, sep = '\\s+' )"
      ],
      "execution_count": null,
      "outputs": []
    },
    {
      "cell_type": "markdown",
      "metadata": {
        "id": "THNaSKkCOlHu"
      },
      "source": [
        "[3] Convert your dataset to csv file"
      ]
    },
    {
      "cell_type": "code",
      "metadata": {
        "id": "E8uQNz5YKx6h"
      },
      "source": [
        "dataset.to_csv('housing.data1.csv', index = None)"
      ],
      "execution_count": null,
      "outputs": []
    },
    {
      "cell_type": "markdown",
      "metadata": {
        "id": "hxYCzOrwOqQh"
      },
      "source": [
        "[4] Then use the print() function to generate output. It should look like below:"
      ]
    },
    {
      "cell_type": "code",
      "metadata": {
        "colab": {
          "base_uri": "https://localhost:8080/"
        },
        "id": "86iXOLakLVjn",
        "outputId": "9380019b-771f-49c6-d9c7-310bac46d1fe"
      },
      "source": [
        "df = pd.read_csv('housing.data1.csv')\n",
        "print(df)"
      ],
      "execution_count": null,
      "outputs": [
        {
          "output_type": "stream",
          "name": "stdout",
          "text": [
            "           0     1       2      3       4  ...       9     10      11     12    13\n",
            "0    0.00632  18.0   2.310  0.000  0.5380  ...  296.00   15.3  396.90   4.98  24.0\n",
            "1    0.00000   0.0   0.469  6.421  4.9671  ...    9.14   21.6     NaN    NaN   NaN\n",
            "2    0.02729   0.0   7.070  0.000  0.4690  ...  242.00   17.8  392.83   4.03  34.7\n",
            "3    0.03237   0.0   2.180  0.000  0.4580  ...  222.00   18.7  394.63   2.94  33.4\n",
            "4    0.06905   0.0   0.000  0.458  7.1470  ...   18.70  396.9    5.33  36.20   NaN\n",
            "..       ...   ...     ...    ...     ...  ...     ...    ...     ...    ...   ...\n",
            "501  0.06263   0.0  11.930  0.000  0.5730  ...  273.00   21.0  391.99   9.67  22.4\n",
            "502  0.04527   0.0  20.600    NaN     NaN  ...     NaN    NaN     NaN    NaN   NaN\n",
            "503  0.06076   0.0  11.930  0.000  0.5730  ...  273.00   21.0  396.90   5.64  23.9\n",
            "504  0.10959   0.0  11.930  0.000  0.5730  ...  273.00   21.0  393.45   6.48  22.0\n",
            "505  0.04741   0.0  11.930  0.000  0.5730  ...  273.00   21.0  396.90   7.88  11.9\n",
            "\n",
            "[506 rows x 14 columns]\n"
          ]
        }
      ]
    },
    {
      "cell_type": "markdown",
      "metadata": {
        "id": "wXowCbNcOwIo"
      },
      "source": [
        "[5] Learn about head() function and the purpose of it. Use the head() function to produce the output\n",
        "below:"
      ]
    },
    {
      "cell_type": "code",
      "metadata": {
        "colab": {
          "base_uri": "https://localhost:8080/",
          "height": 223
        },
        "id": "MYP0ELKgNWm9",
        "outputId": "efc5f49d-3e41-47e6-f918-6a890ebef579"
      },
      "source": [
        "df.head()"
      ],
      "execution_count": null,
      "outputs": [
        {
          "output_type": "execute_result",
          "data": {
            "text/html": [
              "<div>\n",
              "<style scoped>\n",
              "    .dataframe tbody tr th:only-of-type {\n",
              "        vertical-align: middle;\n",
              "    }\n",
              "\n",
              "    .dataframe tbody tr th {\n",
              "        vertical-align: top;\n",
              "    }\n",
              "\n",
              "    .dataframe thead th {\n",
              "        text-align: right;\n",
              "    }\n",
              "</style>\n",
              "<table border=\"1\" class=\"dataframe\">\n",
              "  <thead>\n",
              "    <tr style=\"text-align: right;\">\n",
              "      <th></th>\n",
              "      <th>0</th>\n",
              "      <th>1</th>\n",
              "      <th>2</th>\n",
              "      <th>3</th>\n",
              "      <th>4</th>\n",
              "      <th>5</th>\n",
              "      <th>6</th>\n",
              "      <th>7</th>\n",
              "      <th>8</th>\n",
              "      <th>9</th>\n",
              "      <th>10</th>\n",
              "      <th>11</th>\n",
              "      <th>12</th>\n",
              "      <th>13</th>\n",
              "    </tr>\n",
              "  </thead>\n",
              "  <tbody>\n",
              "    <tr>\n",
              "      <th>0</th>\n",
              "      <td>0.00632</td>\n",
              "      <td>18.0</td>\n",
              "      <td>2.310</td>\n",
              "      <td>0.000</td>\n",
              "      <td>0.5380</td>\n",
              "      <td>6.575</td>\n",
              "      <td>65.2000</td>\n",
              "      <td>4.0900</td>\n",
              "      <td>1.0</td>\n",
              "      <td>296.00</td>\n",
              "      <td>15.3</td>\n",
              "      <td>396.90</td>\n",
              "      <td>4.98</td>\n",
              "      <td>24.0</td>\n",
              "    </tr>\n",
              "    <tr>\n",
              "      <th>1</th>\n",
              "      <td>0.00000</td>\n",
              "      <td>0.0</td>\n",
              "      <td>0.469</td>\n",
              "      <td>6.421</td>\n",
              "      <td>4.9671</td>\n",
              "      <td>2.000</td>\n",
              "      <td>242.0000</td>\n",
              "      <td>17.8000</td>\n",
              "      <td>396.9</td>\n",
              "      <td>9.14</td>\n",
              "      <td>21.6</td>\n",
              "      <td>NaN</td>\n",
              "      <td>NaN</td>\n",
              "      <td>NaN</td>\n",
              "    </tr>\n",
              "    <tr>\n",
              "      <th>2</th>\n",
              "      <td>0.02729</td>\n",
              "      <td>0.0</td>\n",
              "      <td>7.070</td>\n",
              "      <td>0.000</td>\n",
              "      <td>0.4690</td>\n",
              "      <td>7.185</td>\n",
              "      <td>61.1000</td>\n",
              "      <td>4.9671</td>\n",
              "      <td>2.0</td>\n",
              "      <td>242.00</td>\n",
              "      <td>17.8</td>\n",
              "      <td>392.83</td>\n",
              "      <td>4.03</td>\n",
              "      <td>34.7</td>\n",
              "    </tr>\n",
              "    <tr>\n",
              "      <th>3</th>\n",
              "      <td>0.03237</td>\n",
              "      <td>0.0</td>\n",
              "      <td>2.180</td>\n",
              "      <td>0.000</td>\n",
              "      <td>0.4580</td>\n",
              "      <td>6.998</td>\n",
              "      <td>45.8000</td>\n",
              "      <td>6.0622</td>\n",
              "      <td>3.0</td>\n",
              "      <td>222.00</td>\n",
              "      <td>18.7</td>\n",
              "      <td>394.63</td>\n",
              "      <td>2.94</td>\n",
              "      <td>33.4</td>\n",
              "    </tr>\n",
              "    <tr>\n",
              "      <th>4</th>\n",
              "      <td>0.06905</td>\n",
              "      <td>0.0</td>\n",
              "      <td>0.000</td>\n",
              "      <td>0.458</td>\n",
              "      <td>7.1470</td>\n",
              "      <td>54.200</td>\n",
              "      <td>6.0622</td>\n",
              "      <td>3.0000</td>\n",
              "      <td>222.0</td>\n",
              "      <td>18.70</td>\n",
              "      <td>396.9</td>\n",
              "      <td>5.33</td>\n",
              "      <td>36.20</td>\n",
              "      <td>NaN</td>\n",
              "    </tr>\n",
              "  </tbody>\n",
              "</table>\n",
              "</div>"
            ],
            "text/plain": [
              "         0     1      2      3       4  ...       9     10      11     12    13\n",
              "0  0.00632  18.0  2.310  0.000  0.5380  ...  296.00   15.3  396.90   4.98  24.0\n",
              "1  0.00000   0.0  0.469  6.421  4.9671  ...    9.14   21.6     NaN    NaN   NaN\n",
              "2  0.02729   0.0  7.070  0.000  0.4690  ...  242.00   17.8  392.83   4.03  34.7\n",
              "3  0.03237   0.0  2.180  0.000  0.4580  ...  222.00   18.7  394.63   2.94  33.4\n",
              "4  0.06905   0.0  0.000  0.458  7.1470  ...   18.70  396.9    5.33  36.20   NaN\n",
              "\n",
              "[5 rows x 14 columns]"
            ]
          },
          "metadata": {},
          "execution_count": 110
        }
      ]
    },
    {
      "cell_type": "markdown",
      "metadata": {
        "id": "pJ9U2oqPO0qG"
      },
      "source": [
        "[6] As this is a large dataset, therefore we want to find out about missing data by using code. Find out\n",
        "how you can find about if there is NaN in your dataset. I used a variable named check_nan to store my\n",
        "result. If you print the variable, then you should get a True as result. That means you have NaN in your\n",
        "dataset."
      ]
    },
    {
      "cell_type": "code",
      "metadata": {
        "id": "AUGoYyS0OWZR"
      },
      "source": [
        "import csv\n",
        "check_nan = 'False'\n",
        "a=''\n",
        "with open(\"housing.data1.csv\") as f_obj:\n",
        "    reader = csv.reader(f_obj, delimiter=',')\n",
        "    for line in reader:\n",
        "        if a in str(line):\n",
        "            check_nan = 'True'"
      ],
      "execution_count": null,
      "outputs": []
    },
    {
      "cell_type": "code",
      "metadata": {
        "colab": {
          "base_uri": "https://localhost:8080/"
        },
        "id": "VtBqMLNCSlnD",
        "outputId": "28fa6280-7566-479e-af5a-922fd9cefeaa"
      },
      "source": [
        "print(check_nan)"
      ],
      "execution_count": null,
      "outputs": [
        {
          "output_type": "stream",
          "name": "stdout",
          "text": [
            "True\n"
          ]
        }
      ]
    },
    {
      "cell_type": "markdown",
      "metadata": {
        "id": "Sn7nuY81TAiG"
      },
      "source": [
        "[7] Next, replace the NaN values with mean value (by using SimpleImputer class, module 04)."
      ]
    },
    {
      "cell_type": "code",
      "metadata": {
        "id": "FX0IDY18S_nH"
      },
      "source": [
        "X = df.iloc[:, :].values\n",
        "Y = df.iloc[:,1: ].values\n",
        "from sklearn.impute import SimpleImputer\n",
        "imputer=SimpleImputer(missing_values=np.nan,strategy='mean')\n",
        "imputer=imputer.fit(X[:,1:])\n",
        "X[:,1:]=imputer.transform(X[:,1:])"
      ],
      "execution_count": null,
      "outputs": []
    },
    {
      "cell_type": "markdown",
      "metadata": {
        "id": "R_gPKbG9n02K"
      },
      "source": [
        "[8] Check if you still have NaN values in your dataset or not. Recall that your dataset is a numpy array\n",
        "now as you used the SimpleImputer class. It should produce this output below:"
      ]
    },
    {
      "cell_type": "code",
      "metadata": {
        "colab": {
          "base_uri": "https://localhost:8080/"
        },
        "id": "qbagPZyqn6ky",
        "outputId": "2dc52b58-b7e7-4a68-fa08-d4115b541485"
      },
      "source": [
        "blank = ''\n",
        "if blank in X:\n",
        "  array_has_nan = 'True'\n",
        "else:\n",
        "  array_has_nan = 'False'\n",
        "\n",
        "print(array_has_nan)"
      ],
      "execution_count": null,
      "outputs": [
        {
          "output_type": "stream",
          "name": "stdout",
          "text": [
            "False\n"
          ]
        },
        {
          "output_type": "stream",
          "name": "stderr",
          "text": [
            "/usr/local/lib/python3.7/dist-packages/ipykernel_launcher.py:2: FutureWarning: elementwise comparison failed; returning scalar instead, but in the future will perform elementwise comparison\n",
            "  \n"
          ]
        }
      ]
    },
    {
      "cell_type": "markdown",
      "metadata": {
        "id": "5J_PX-IxonC5"
      },
      "source": [
        "[9] Print your output and see if it’s a numpy array. Your output should look like this below:"
      ]
    },
    {
      "cell_type": "code",
      "metadata": {
        "colab": {
          "base_uri": "https://localhost:8080/"
        },
        "id": "_fYuwd1lol7Z",
        "outputId": "01692610-ec64-4dc7-faef-5bd10f718497"
      },
      "source": [
        "print(X)"
      ],
      "execution_count": null,
      "outputs": [
        {
          "output_type": "stream",
          "name": "stdout",
          "text": [
            "[[6.32000000e-03 1.80000000e+01 2.31000000e+00 ... 3.96900000e+02\n",
            "  4.98000000e+00 2.40000000e+01]\n",
            " [0.00000000e+00 0.00000000e+00 4.69000000e-01 ... 3.49281783e+02\n",
            "  1.29052049e+01 2.25598739e+01]\n",
            " [2.72900000e-02 0.00000000e+00 7.07000000e+00 ... 3.92830000e+02\n",
            "  4.03000000e+00 3.47000000e+01]\n",
            " ...\n",
            " [6.07600000e-02 0.00000000e+00 1.19300000e+01 ... 3.96900000e+02\n",
            "  5.64000000e+00 2.39000000e+01]\n",
            " [1.09590000e-01 0.00000000e+00 1.19300000e+01 ... 3.93450000e+02\n",
            "  6.48000000e+00 2.20000000e+01]\n",
            " [4.74100000e-02 0.00000000e+00 1.19300000e+01 ... 3.96900000e+02\n",
            "  7.88000000e+00 1.19000000e+01]]\n"
          ]
        }
      ]
    }
  ]
}