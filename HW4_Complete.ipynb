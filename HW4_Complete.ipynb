{
  "cells": [
    {
      "cell_type": "markdown",
      "metadata": {
        "id": "view-in-github",
        "colab_type": "text"
      },
      "source": [
        "<a href=\"https://colab.research.google.com/github/AdrianRamos956/Homeworks/blob/main/HW4_Complete.ipynb\" target=\"_parent\"><img src=\"https://colab.research.google.com/assets/colab-badge.svg\" alt=\"Open In Colab\"/></a>"
      ]
    },
    {
      "cell_type": "markdown",
      "source": [
        "## HW4 Skeleton code"
      ],
      "metadata": {
        "id": "tNk5zZ6Rxs8x"
      }
    },
    {
      "cell_type": "markdown",
      "metadata": {
        "id": "CUaV7F01xm0I"
      },
      "source": [
        "% import necessary modules"
      ]
    },
    {
      "cell_type": "code",
      "execution_count": null,
      "metadata": {
        "id": "HraadoKLxm0K"
      },
      "outputs": [],
      "source": [
        "import numpy as np\n",
        "import matplotlib.pyplot as plt"
      ]
    },
    {
      "cell_type": "markdown",
      "metadata": {
        "id": "PgZ9xl2Vxm0L"
      },
      "source": [
        "% Q1 setup"
      ]
    },
    {
      "cell_type": "code",
      "execution_count": null,
      "metadata": {
        "id": "ytYhA9Qsxm0L"
      },
      "outputs": [],
      "source": [
        "import scipy.stats as stats\n",
        "import numpy.random as rn"
      ]
    },
    {
      "cell_type": "code",
      "execution_count": null,
      "metadata": {
        "id": "K4cx2ZfKxm0M"
      },
      "outputs": [],
      "source": [
        "rn.seed(0)"
      ]
    },
    {
      "cell_type": "markdown",
      "metadata": {
        "id": "EhDNz5Rvxm0N"
      },
      "source": [
        "% Q1a"
      ]
    },
    {
      "cell_type": "code",
      "execution_count": null,
      "metadata": {
        "id": "M76VzwYxxm0O"
      },
      "outputs": [],
      "source": [
        "m = 10**5;  # number of coins\n",
        "N = 16; # number of tosses each coin"
      ]
    },
    {
      "cell_type": "markdown",
      "metadata": {
        "id": "weZLCI5Gxm0P"
      },
      "source": [
        "Generate headCounts and plot histogram in the cell below"
      ]
    },
    {
      "cell_type": "code",
      "execution_count": null,
      "metadata": {
        "colab": {
          "base_uri": "https://localhost:8080/",
          "height": 281
        },
        "id": "yNrDbdSFxm0Q",
        "outputId": "36942b49-f42f-41dd-c2be-9b179d7faadb"
      },
      "outputs": [
        {
          "output_type": "display_data",
          "data": {
            "text/plain": [
              "<Figure size 432x288 with 1 Axes>"
            ],
            "image/png": "[encoded data removed]"
          },
          "metadata": {
            "needs_background": "light"
          }
        }
      ],
      "source": [
        "plt.figure()\n",
        "plt.title('Q1a: Histogram of head counts')\n",
        "\n",
        "tosses = np.random.uniform(size=(10**5,16))\n",
        "heads = tosses>0.5\n",
        "headCounts = heads.sum(axis=1)\n",
        "\n",
        "plt.hist(headCounts, bins=range(18))\n",
        "\n",
        "plt.show()"
      ]
    },
    {
      "cell_type": "markdown",
      "metadata": {
        "id": "bOHYFBEQxm0R"
      },
      "source": [
        "% Q1b"
      ]
    },
    {
      "cell_type": "code",
      "execution_count": null,
      "metadata": {
        "id": "qN81n_7xxm0R",
        "colab": {
          "base_uri": "https://localhost:8080/",
          "height": 281
        },
        "outputId": "f53408fb-72a9-48d8-ea7e-7b984f2be98c"
      },
      "outputs": [
        {
          "output_type": "display_data",
          "data": {
            "text/plain": [
              "<Figure size 432x288 with 1 Axes>"
            ],
            "image/png": "[encoded data removed]"
          },
          "metadata": {
            "needs_background": "light"
          }
        }
      ],
      "source": [
        "plt.figure()\n",
        "plt.title('Q1b: Probability Mass Function')\n",
        "\n",
        "count=plt.hist(headCounts, bins=range(18), density=True)\n",
        "\n",
        "plt.show()"
      ]
    },
    {
      "cell_type": "markdown",
      "metadata": {
        "id": "pcXl_Jqhxm0S"
      },
      "source": [
        "% Q1c"
      ]
    },
    {
      "cell_type": "code",
      "execution_count": null,
      "metadata": {
        "id": "o9I-Jk3dxm0T",
        "colab": {
          "base_uri": "https://localhost:8080/",
          "height": 281
        },
        "outputId": "c20e1e64-b9df-4d39-c111-fb166665cf79"
      },
      "outputs": [
        {
          "output_type": "display_data",
          "data": {
            "text/plain": [
              "<Figure size 432x288 with 1 Axes>"
            ],
            "image/png": "[encoded data removed]"
          },
          "metadata": {
            "needs_background": "light"
          }
        }
      ],
      "source": [
        "plt.figure()\n",
        "plt.title('Q1c: Cumulative Distribution Function')\n",
        "\n",
        "Empirical_CDF = np.cumsum(count[0])\n",
        "plt.plot(range(17), Empirical_CDF)\n",
        "\n",
        "plt.show()"
      ]
    },
    {
      "cell_type": "markdown",
      "metadata": {
        "id": "ncQC1a3ixm0U"
      },
      "source": [
        "% Q1d"
      ]
    },
    {
      "cell_type": "code",
      "execution_count": null,
      "metadata": {
        "id": "o9P8BIDoxm0U",
        "colab": {
          "base_uri": "https://localhost:8080/",
          "height": 285
        },
        "outputId": "78154050-597f-4fef-9c4c-2995f434c8bf"
      },
      "outputs": [
        {
          "output_type": "display_data",
          "data": {
            "text/plain": [
              "<Figure size 432x288 with 1 Axes>"
            ],
            "image/png": "[encoded data removed]"
          },
          "metadata": {
            "needs_background": "light"
          }
        }
      ],
      "source": [
        "plt.figure()\n",
        "plt.title('Q1d: Empirical vs Theoretical CDF')\n",
        "\n",
        "Theoretical_CDF = stats.binom.cdf(range(17), 16, 0.5)\n",
        "\n",
        "plt.plot(Empirical_CDF, Theoretical_CDF, 'o')\n",
        "\n",
        "plt.xscale('log')\n",
        "plt.yscale('log')\n",
        "\n",
        "\n",
        "plt.show()"
      ]
    },
    {
      "cell_type": "markdown",
      "metadata": {
        "id": "wWYlQVv3xm0U"
      },
      "source": [
        "% Q1e"
      ]
    },
    {
      "cell_type": "code",
      "execution_count": null,
      "metadata": {
        "id": "Kic-8lj9xm0V",
        "colab": {
          "base_uri": "https://localhost:8080/",
          "height": 281
        },
        "outputId": "ece0aa35-a91e-4b3f-d0d0-25ab826c016c"
      },
      "outputs": [
        {
          "output_type": "display_data",
          "data": {
            "text/plain": [
              "<Figure size 432x288 with 1 Axes>"
            ],
            "image/png": "[encoded data removed]"
          },
          "metadata": {
            "needs_background": "light"
          }
        }
      ],
      "source": [
        "plt.figure()\n",
        "plt.title('Q1e: normal probability plot')\n",
        "plt.show()"
      ]
    },
    {
      "cell_type": "markdown",
      "metadata": {
        "id": "V3caOylzxm0V"
      },
      "source": [
        "% Q1f"
      ]
    },
    {
      "cell_type": "code",
      "execution_count": null,
      "metadata": {
        "collapsed": true,
        "id": "kOGZiEawxm0W",
        "colab": {
          "base_uri": "https://localhost:8080/",
          "height": 281
        },
        "outputId": "44ecd82a-3340-4bd7-f9e7-833420b128ea"
      },
      "outputs": [
        {
          "output_type": "display_data",
          "data": {
            "text/plain": [
              "<Figure size 432x288 with 1 Axes>"
            ],
            "image/png": "[encoded data removed]"
          },
          "metadata": {
            "needs_background": "light"
          }
        }
      ],
      "source": [
        "plt.figure()\n",
        "plt.title('Q1f: Empirical Binom CDF vs Theoretical Norm CDF')\n",
        "plt.show()"
      ]
    },
    {
      "cell_type": "markdown",
      "metadata": {
        "id": "LX55-diNxm0W"
      },
      "source": [
        "% Q2 (2e,2f optional)"
      ]
    },
    {
      "cell_type": "markdown",
      "metadata": {
        "id": "tY4ebHgtxm0W"
      },
      "source": [
        "2a, simulate fair coin and collect headCountsFair"
      ]
    },
    {
      "cell_type": "code",
      "source": [
        "tosses = np.random.uniform(size=(10**3,10))\n",
        "heads = tosses>0.5\n",
        "headCountsFair = heads.sum(axis=1)"
      ],
      "metadata": {
        "id": "vUgd5vSxzm17"
      },
      "execution_count": null,
      "outputs": []
    },
    {
      "cell_type": "markdown",
      "metadata": {
        "id": "RfVIq1kzxm0X"
      },
      "source": [
        "2b, simulate loadd coin and collect headCountsLoaded"
      ]
    },
    {
      "cell_type": "code",
      "source": [
        "tosses = np.random.uniform(size=(10**3,10))\n",
        "heads = tosses<0.6\n",
        "headCountsLoaded = heads.sum(axis=1)"
      ],
      "metadata": {
        "id": "SWwGtg1Wzn58"
      },
      "execution_count": null,
      "outputs": []
    },
    {
      "cell_type": "markdown",
      "metadata": {
        "id": "no1KLLMkxm0X"
      },
      "source": [
        "2c, plot both headCounts on the same figure"
      ]
    },
    {
      "cell_type": "code",
      "source": [
        "plt.figure()\n",
        "plt.title('headCountsFair')\n",
        "plt.hist(headCountsFair, bins=range(12), density=True, edgecolor='black')\n",
        "#plt.hist(headCountsLoaded, bins=range(12), density=True, edgecolor='black')\n",
        "plt.show()\n",
        "\n",
        "plt.figure()\n",
        "plt.title('headCountsLoaded')\n",
        "plt.hist(headCountsLoaded, bins=range(12), density=True, edgecolor='black')\n",
        "plt.show()"
      ],
      "metadata": {
        "id": "GoAjEcx3zrFd",
        "colab": {
          "base_uri": "https://localhost:8080/",
          "height": 545
        },
        "outputId": "20ce82d1-09c1-4aa5-929c-5ac909a8c667"
      },
      "execution_count": null,
      "outputs": [
        {
          "output_type": "display_data",
          "data": {
            "text/plain": [
              "<Figure size 432x288 with 1 Axes>"
            ],
            "image/png": "[encoded data removed]"
          },
          "metadata": {
            "needs_background": "light"
          }
        },
        {
          "output_type": "display_data",
          "data": {
            "text/plain": [
              "<Figure size 432x288 with 1 Axes>"
            ],
            "image/png": "[encoded data removed]"
          },
          "metadata": {
            "needs_background": "light"
          }
        }
      ]
    },
    {
      "cell_type": "markdown",
      "metadata": {
        "id": "lFI--MnLxm0X"
      },
      "source": [
        "2d, perform ttest and print out p-value; also print out a statement about whether or not there is statistically significant difference between the two sets of coins"
      ]
    },
    {
      "cell_type": "code",
      "source": [
        "stats.ttest_ind(headCountsLoaded,headCountsFair)"
      ],
      "metadata": {
        "id": "hFOXjKoJzr82",
        "colab": {
          "base_uri": "https://localhost:8080/"
        },
        "outputId": "71ca5406-038d-4c73-e5c8-4aab3e539fd7"
      },
      "execution_count": null,
      "outputs": [
        {
          "output_type": "execute_result",
          "data": {
            "text/plain": [
              "Ttest_indResult(statistic=13.394858726075686, pvalue=3.029788788494061e-39)"
            ]
          },
          "metadata": {},
          "execution_count": 144
        }
      ]
    },
    {
      "cell_type": "code",
      "source": [],
      "metadata": {
        "id": "_q2HjAkGFubz"
      },
      "execution_count": null,
      "outputs": []
    },
    {
      "cell_type": "markdown",
      "metadata": {
        "id": "COnh_MoIxm0X"
      },
      "source": [
        "% Q2e (Write a for loop to) repeat Q2a, Q2b and Q2d (with only 10 fair coins and 10 loaded coins) 10 times and count the number of times that you got a p-value <= 0.05"
      ]
    },
    {
      "cell_type": "code",
      "source": [],
      "metadata": {
        "id": "Z771gpTE1X4L"
      },
      "execution_count": null,
      "outputs": []
    },
    {
      "cell_type": "markdown",
      "metadata": {
        "id": "XSSDa8vBxm0Y"
      },
      "source": [
        "% Q2f (Write a for loop to) repeat Q2a, Q2b and Q2d 1000 times, but with two sets of coins that are all fair coins, and count number of times that you got a p-value <= 0.05"
      ]
    },
    {
      "cell_type": "code",
      "source": [],
      "metadata": {
        "id": "dENssQM_1ZLf"
      },
      "execution_count": null,
      "outputs": []
    },
    {
      "cell_type": "markdown",
      "metadata": {
        "id": "_amE7-g-xm0Y"
      },
      "source": [
        "% Q3 setup"
      ]
    },
    {
      "cell_type": "code",
      "execution_count": null,
      "metadata": {
        "id": "tFD8vXa-xm0Y"
      },
      "outputs": [],
      "source": [
        "import pandas as pd"
      ]
    },
    {
      "cell_type": "code",
      "execution_count": null,
      "metadata": {
        "id": "1UfRO9oxxm0Z",
        "colab": {
          "base_uri": "https://localhost:8080/"
        },
        "outputId": "07be84df-ea09-44db-a60b-7ed7ddc62642"
      },
      "outputs": [
        {
          "output_type": "execute_result",
          "data": {
            "text/plain": [
              "(385974, 5)"
            ]
          },
          "metadata": {},
          "execution_count": 146
        }
      ],
      "source": [
        "url = 'https://raw.githubusercontent.com/jianhuaruan/3753/main/'\n",
        "# uncomment below to run locally\n",
        "# url = ''\n",
        "data = pd.read_csv(url + 'brfss2.csv', index_col=0)\n",
        "data = data.drop('wtkg2',axis=1).dropna(axis=0, how='any').values\n",
        "data.shape"
      ]
    },
    {
      "cell_type": "markdown",
      "metadata": {
        "id": "Ia0ETKAYxm0Z"
      },
      "source": [
        "data is now a numpy array and the columns are age, current weight (kg), <br>\n",
        "last year's weight (kg), height (cm), and gender (1: male; 2: female)."
      ]
    },
    {
      "cell_type": "markdown",
      "source": [
        "% Q3a: Display summary statistics of three selected columns"
      ],
      "metadata": {
        "id": "CZY51eEI2rXJ"
      }
    },
    {
      "cell_type": "code",
      "source": [
        "Final = np.zeros((3,6))\n",
        "\n",
        "\n",
        "TempMin = data.min(axis = 0)\n",
        "Final[0,0] = TempMin[1]\n",
        "Final[1,0] = TempMin[2]\n",
        "Final[2,0] = TempMin[3]\n",
        "\n",
        "TempMax = data.max(axis = 0)\n",
        "Final[0,1] = TempMax[1]\n",
        "Final[1,1] = TempMax[2]\n",
        "Final[2,1] = TempMax[3]\n",
        "\n",
        "TempMean = data.mean(axis = 0)\n",
        "Final[0,2] = TempMean[1]\n",
        "Final[1,2] = TempMean[2]\n",
        "Final[2,2] = TempMean[3]\n",
        "\n",
        "TempMedian = np.median(data,axis=0)\n",
        "Final[0,3] = TempMedian[1]\n",
        "Final[1,3] = TempMedian[2]\n",
        "Final[2,3] = TempMedian[3]\n",
        "\n",
        "TempSTD = np.std(data,axis=0)\n",
        "Final[0,4] = TempSTD[1] + TempMean[1]\n",
        "Final[1,4] = TempSTD[2] + TempMean[2]\n",
        "Final[2,4] = TempSTD[3] + TempMean[3]\n",
        "\n",
        "TempSTD = np.std(data,axis=0)\n",
        "Final[0,5] = TempMean[1] - TempSTD[1]\n",
        "Final[1,5] = TempMean[2] - TempSTD[2]\n",
        "Final[2,5] = TempMean[3] - TempSTD[3]\n",
        "\n",
        "print(Final)"
      ],
      "metadata": {
        "id": "rw3MRxgU2wOa",
        "colab": {
          "base_uri": "https://localhost:8080/"
        },
        "outputId": "eb6d98cd-8156-4396-f5a8-9138ada74eb2"
      },
      "execution_count": null,
      "outputs": [
        {
          "output_type": "stream",
          "name": "stdout",
          "text": [
            "[[ 20.         300.          79.0614634   77.27272727  98.57572078\n",
            "   59.54720601]\n",
            " [ 22.72727273 342.27272727  79.80518636  77.27272727 100.38403125\n",
            "   59.22634147]\n",
            " [ 61.         236.         169.01344132 168.         179.40229775\n",
            "  158.62458489]]\n"
          ]
        }
      ]
    },
    {
      "cell_type": "markdown",
      "metadata": {
        "id": "fluhdgGKxm0Z"
      },
      "source": [
        "% Q3b: scatter plots and Pearson correlation coefficients"
      ]
    },
    {
      "cell_type": "code",
      "source": [
        "ageAll = data[:,0]\n",
        "current_weighAll = data[:,1]\n",
        "weight_a_year_agoAll = data[:,2]\n",
        "\n",
        "weight_change = current_weighAll - weight_a_year_agoAll\n",
        "\n",
        "temp1 = np.corrcoef(weight_change, ageAll)\n",
        "temp2 = np.corrcoef(weight_change, current_weighAll)\n",
        "temp3 = np.corrcoef(weight_change, weight_a_year_agoAll)\n",
        "\n",
        "print(\"The Correlation between weight_change and age is \", temp1[0,1])\n",
        "print(\"The Correlation between weight_change and current_weigh is \", temp2[0,1])\n",
        "print(\"The Correlation between weight_change and weight_a_year_ago is \", temp3[0,1])\n",
        "\n",
        "plt.figure()\n",
        "plt.title('weight_change, age')\n",
        "plt.scatter(weight_change, ageAll)\n",
        "plt.ylim(0.0,350.0, 25.0)\n",
        "plt.xlim(-300,300,20)\n",
        "plt.show()\n",
        "\n",
        "plt.figure()\n",
        "plt.title('weight_change, current_weigh')\n",
        "plt.scatter(weight_change, current_weighAll)\n",
        "plt.ylim(0.0,350.0, 25.0)\n",
        "plt.xlim(-300,300,20)\n",
        "plt.show()\n",
        "\n",
        "plt.figure()\n",
        "plt.title('weight_change, weight_a_year_ago')\n",
        "plt.scatter(weight_change, weight_a_year_agoAll)\n",
        "plt.ylim(0.0,350.0, 25.0)\n",
        "plt.xlim(-300,300,20)\n",
        "plt.show()"
      ],
      "metadata": {
        "id": "LKUoJutg8XUw",
        "colab": {
          "base_uri": "https://localhost:8080/",
          "height": 861
        },
        "outputId": "cef53f1e-40cc-4634-af94-a7057ade3e61"
      },
      "execution_count": null,
      "outputs": [
        {
          "output_type": "stream",
          "name": "stdout",
          "text": [
            "The Correlation between weight_change and age is  -0.06867582903526567\n",
            "The Correlation between weight_change and current_weigh is  0.034132175224082885\n",
            "The Correlation between weight_change and weight_a_year_ago is  -0.31911696303346515\n"
          ]
        },
        {
          "output_type": "display_data",
          "data": {
            "text/plain": [
              "<Figure size 432x288 with 1 Axes>"
            ],
            "image/png": "[encoded data removed]"
          },
          "metadata": {
            "needs_background": "light"
          }
        },
        {
          "output_type": "display_data",
          "data": {
            "text/plain": [
              "<Figure size 432x288 with 1 Axes>"
            ],
            "image/png": "[encoded data removed]"
          },
          "metadata": {
            "needs_background": "light"
          }
        },
        {
          "output_type": "display_data",
          "data": {
            "text/plain": [
              "<Figure size 432x288 with 1 Axes>"
            ],
            "image/png": "[encoded data removed]"
          },
          "metadata": {
            "needs_background": "light"
          }
        }
      ]
    },
    {
      "cell_type": "markdown",
      "metadata": {
        "id": "xSn2erZtxm0a"
      },
      "source": [
        "% Q3c: compare weight_change for men and women: mean, SEM, t-test"
      ]
    },
    {
      "cell_type": "code",
      "source": [
        "maleweight_changeAll = data[:,:]\n",
        "femaleweight_changeAll = data[:,:]\n",
        "\n",
        "allFemales = np.delete(data, np.where((data == 1))[0], axis=0)\n",
        "allMales = np.delete(data, np.where((data == 2))[0], axis=0)\n",
        "\n",
        "current_weighAllFemale = allFemales[:,1]\n",
        "weight_a_year_agoAllFemale = allFemales[:,2]\n",
        "weight_changeFemale = current_weighAllFemale - weight_a_year_agoAllFemale\n",
        "\n",
        "current_weighAllMale = allMales[:,1]\n",
        "weight_a_year_agoAllMale = allMales[:,2]\n",
        "weight_changeMale = current_weighAllMale - weight_a_year_agoAllMale\n",
        "\n",
        "print(\"The Mean Weight Change in Females is \" , np.mean(weight_changeFemale), \"and the SEM is \",stats.sem(weight_changeFemale))\n",
        "print(\"The Mean Weight Change in Females is \" , np.mean(weight_changeMale), \"and the SEM is \",stats.sem(weight_changeMale))\n",
        "stats.ttest_ind(weight_changeFemale, weight_changeMale)"
      ],
      "metadata": {
        "id": "WBKnxKgE8XzZ",
        "colab": {
          "base_uri": "https://localhost:8080/"
        },
        "outputId": "c1384136-49b6-4a0a-b2fd-e8747960efe2"
      },
      "execution_count": null,
      "outputs": [
        {
          "output_type": "stream",
          "name": "stdout",
          "text": [
            "The Mean Weight Change Mean in Females is  -0.672111498300853 and the SEM is  0.015327456384406383\n",
            "The Mean Weight Change Mean in Females is  -0.8559857662178697 and the SEM is  0.017780975514333063\n"
          ]
        },
        {
          "output_type": "execute_result",
          "data": {
            "text/plain": [
              "Ttest_indResult(statistic=7.701843115268436, pvalue=1.3443372547049559e-14)"
            ]
          },
          "metadata": {},
          "execution_count": 163
        }
      ]
    },
    {
      "cell_type": "markdown",
      "source": [],
      "metadata": {
        "id": "kZSrvF_3csXq"
      }
    },
    {
      "cell_type": "markdown",
      "source": [
        "% Q3d: compare weight/height ratio for men and women: mean, SEM, t-test"
      ],
      "metadata": {
        "id": "wBb4vImL71QZ"
      }
    },
    {
      "cell_type": "code",
      "source": [
        "maleweight_changeAll = data[:,:]\n",
        "femaleweight_changeAll = data[:,:]\n",
        "\n",
        "allFemales = np.delete(data, np.where((data == 1))[0], axis=0)\n",
        "allMales = np.delete(data, np.where((data == 2))[0], axis=0)\n",
        "\n",
        "current_weighAllFemale = allFemales[:,1]\n",
        "heightFemale = allFemales[:,3]\n",
        "weight_height_ratioFemale = current_weighAllFemale / heightFemale\n",
        "\n",
        "current_weighAllMale = allMales[:,1]\n",
        "heightMale = allMales[:,3]\n",
        "weight_height_ratioMale = current_weighAllMale / heightMale\n",
        "\n",
        "print(\"The Weight Height Ratio in Females is \" , np.mean(weight_height_ratioFemale), \"and the SEM is \",stats.sem(weight_height_ratioFemale))\n",
        "print(\"The Weight Height Ratio in Males is \" , np.mean(weight_height_ratioMale), \"and the SEM is \",stats.sem(weight_height_ratioMale))\n",
        "stats.ttest_ind(weight_height_ratioMale, weight_height_ratioFemale)"
      ],
      "metadata": {
        "id": "wJ9fBfYk8YdW",
        "colab": {
          "base_uri": "https://localhost:8080/"
        },
        "outputId": "3fc93b06-0b42-4ac7-e2a2-1584ce02d5e6"
      },
      "execution_count": null,
      "outputs": [
        {
          "output_type": "stream",
          "name": "stdout",
          "text": [
            "The Weight Height Ratio in Females is  0.4447903560545505 and the SEM is  0.00021274049869831422\n",
            "The Weight Height Ratio in Males is  0.4991743756402337 and the SEM is  0.0002443396611467596\n"
          ]
        },
        {
          "output_type": "execute_result",
          "data": {
            "text/plain": [
              "Ttest_indResult(statistic=164.6991226748384, pvalue=0.0)"
            ]
          },
          "metadata": {},
          "execution_count": 180
        }
      ]
    },
    {
      "cell_type": "markdown",
      "source": [
        "% Q3e (bonus)"
      ],
      "metadata": {
        "id": "ay0Bz3_38SXE"
      }
    },
    {
      "cell_type": "code",
      "source": [],
      "metadata": {
        "id": "wbIb_2_t8aaU"
      },
      "execution_count": null,
      "outputs": []
    }
  ],
  "metadata": {
    "kernelspec": {
      "display_name": "Python 3",
      "language": "python",
      "name": "python3"
    },
    "language_info": {
      "codemirror_mode": {
        "name": "ipython",
        "version": 3
      },
      "file_extension": ".py",
      "mimetype": "text/x-python",
      "name": "python",
      "nbconvert_exporter": "python",
      "pygments_lexer": "ipython3",
      "version": "3.6.4"
    },
    "colab": {
      "provenance": [],
      "include_colab_link": true
    }
  },
  "nbformat": 4,
  "nbformat_minor": 0
}